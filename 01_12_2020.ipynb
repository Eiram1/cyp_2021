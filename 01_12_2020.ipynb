{
  "nbformat": 4,
  "nbformat_minor": 0,
  "metadata": {
    "colab": {
      "name": "01/12/2020.ipynb",
      "provenance": [],
      "collapsed_sections": [],
      "authorship_tag": "ABX9TyNdqeR/KqqxJy/RiReaTUNu",
      "include_colab_link": true
    },
    "kernelspec": {
      "name": "python3",
      "display_name": "Python 3"
    }
  },
  "cells": [
    {
      "cell_type": "markdown",
      "metadata": {
        "id": "view-in-github",
        "colab_type": "text"
      },
      "source": [
        "<a href=\"https://colab.research.google.com/github/Eiram1/cyp_2021/blob/main/01_12_2020.ipynb\" target=\"_parent\"><img src=\"https://colab.research.google.com/assets/colab-badge.svg\" alt=\"Open In Colab\"/></a>"
      ]
    },
    {
      "cell_type": "code",
      "metadata": {
        "colab": {
          "base_uri": "https://localhost:8080/"
        },
        "id": "7p19XV3fWOxO",
        "outputId": "9ab9c69b-887f-44a0-cecf-74fe03c5f02c"
      },
      "source": [
        "# Ejercicio 1\n",
        "#Ejemplo 1\n",
        "#Pedir 3 numeros enteros y se debe de mostrar el mayor de los tres\n",
        "\n",
        "num1 = int(input(\"Dame el numero 1: \"))\n",
        "num2 = int(input(\"Dame el numero 2: \"))\n",
        "num3 = int(input(\"Dame el numero 3: \"))\n",
        "\n",
        "if num1 > num2 and num1 > num3:\n",
        "  print(\"El numero mayor es: \", num1)\n",
        "elif num2 > num3:\n",
        "  print(\"El numero mayor es: \", num2)\n",
        "else:\n",
        "  print(\"El numero mayor es: \", num3)"
      ],
      "execution_count": null,
      "outputs": [
        {
          "output_type": "stream",
          "text": [
            "Dame el numero 1: 4\n",
            "Dame el numero 2: 5\n",
            "Dame el numero 3: 6\n",
            "El numero mayor es:  6\n"
          ],
          "name": "stdout"
        }
      ]
    },
    {
      "cell_type": "code",
      "metadata": {
        "colab": {
          "base_uri": "https://localhost:8080/"
        },
        "id": "Dm4Y0jCeWQA1",
        "outputId": "aa3a0540-e837-49ff-a5a2-51b1584bdf5e"
      },
      "source": [
        "# Ejercicio 2\n",
        "print(\"Ingresa el nombre del trabajador\")\n",
        "nombre = input()\n",
        "print(\"Cuantas horas trabaja esta semana\", nombre, \":\")\n",
        "horas = int (input())\n",
        "print(\"Cuanto se paga por hora\")\n",
        "sueldoH = input()\n",
        "sueldoH = float (sueldoH)\n",
        "\n",
        "\n",
        "#  Evaluamos \n",
        "\n",
        "if(horas <= 40):\n",
        "  pago = horas * sueldoH\n",
        "  print(\"El sueldo final de\", nombre,\"Es $\", pago)\n",
        "\n",
        "else:\n",
        "  extras = horas - 40\n",
        "  pago = 40 * sueldoH\n",
        "  pagoFinal = pago + ((extras * sueldoH) * 2)\n",
        "  print(\"El sueldo final de \", nombre, \"Es $\", pagoFinal)\n"
      ],
      "execution_count": null,
      "outputs": [
        {
          "output_type": "stream",
          "text": [
            "Ingresa el nombre del trabajador\n",
            "dd\n",
            "Cuantas horas trabaja esta semana dd :\n",
            "40\n",
            "Cuanto se paga por hora\n",
            "10\n",
            "El sueldo final de dd Es $ 400.0\n"
          ],
          "name": "stdout"
        }
      ]
    },
    {
      "cell_type": "code",
      "metadata": {
        "colab": {
          "base_uri": "https://localhost:8080/"
        },
        "id": "t1tlW7S8dpWn",
        "outputId": "815df32f-522e-498e-a203-218f38b19b35"
      },
      "source": [
        "#Ejemplo 3\n",
        "print(\"Ingresa el nombre del trabajador\")\n",
        "nombre = input()\n",
        "print(\"Cuantas horas trabaja esta semana\", nombre, \":\")\n",
        "horas = int (input())\n",
        "print(\"Cuanto se paga por hora\")\n",
        "sueldoH = input()\n",
        "sueldoH = float (sueldoH)\n",
        "\n",
        "#Evaluar el sueldo\n",
        "\n",
        "if (horas<=40):\n",
        "  pago=horas*sueldoH\n",
        "  print(nombre, \"su sueldo final es de $\",pago,\"\\n\")\n",
        "\n",
        "elif ((horas>=41)and(horas<=50)):\n",
        "  extrasDobles = horas-40\n",
        "  print(\"Horas extras dobles:\",extrasDobles)\n",
        "  pago=40*sueldoH\n",
        "  print(\"Sueldo base: $\",pago)\n",
        "  pagoDoble=extrasDobles*(sueldoH*2)\n",
        "  print(\"Pago de horas dobles: $\",pagoDoble)\n",
        "  pagoFinal=pagoDoble+pago\n",
        "  print(nombre, \",su sueldo total es de $\",pagoFinal)"
      ],
      "execution_count": null,
      "outputs": [
        {
          "output_type": "stream",
          "text": [
            "Ingresa el nombre del trabajador\n",
            "diego\n",
            "Cuantas horas trabaja esta semana diego :\n",
            "40\n",
            "Cuanto se paga por hora\n",
            "10\n",
            "diego su sueldo final es de $ 400.0 \n",
            "\n"
          ],
          "name": "stdout"
        }
      ]
    },
    {
      "cell_type": "code",
      "metadata": {
        "colab": {
          "base_uri": "https://localhost:8080/"
        },
        "id": "Jsg6KMboiHg8",
        "outputId": "78b0c1a9-758a-407a-fbfb-fd11482386bc"
      },
      "source": [
        "# Ejemplo 4\n",
        "print(\"Ingrese el nombre del trabjador\")\n",
        "nombre=input()\n",
        "print(\"Cuantas horas trabajo esta semana\", nombre, \":\")\n",
        "horas=int(input())\n",
        "print(\"Cuanto se paga por hora?:\")\n",
        "sueldoH=float(input())\n",
        "\n",
        "#Evaluar el sueldo\n",
        "\n",
        "if(horas<=40):\n",
        "  pago=horas*sueldoH\n",
        "  print(\"El sueldo de\",nombre,\"es $\", pago)\n",
        "\n",
        "elif (horas>40 and horas <=50):\n",
        "  extrasDobles=horas-40\n",
        "  print(\"Horas extras:\",extrasDobles)\n",
        "  pago=40*sueldoH\n",
        "  print(\"Sueldo $\", pago)\n",
        "  pagoDoble=extrasDobles*sueldoH*2\n",
        "  print(\"pago de horas dobles $\", pagoDoble)\n",
        "  pagoFinal=pago+pagoDoble\n",
        "  print(\"El sueldo de\",nombre,\"es $\", pagoFinal)\n",
        "\n",
        "elif (horas >50 and horas <=60):\n",
        "  extrasTriples=horas-50\n",
        "  print(\"horas extra dobles:10\")\n",
        "  print(\"horas extra triples:\",extrasTriples)\n",
        "  pago= 40* sueldoH\n",
        "  print(\"sueldo base:$\", pago)\n",
        "  pagoDoble=10*sueldoH*2\n",
        "  print(\"pago de horas extras dobles:\", pagoDoble)\n",
        "  pagoTriple=extrasTriples *sueldoH *3\n",
        "  print(\"pago de horas extra triples:\" ,pagoTriple)\n",
        "  pagoFinal=pago + pagoDoble+ pagoTriple\n",
        "  print(\"El sueldo Final de : \" ,nombre , \"Es $\", pagoFinal)\n",
        "\n",
        "else:\n",
        "  extrasTriples = 10\n",
        "  print(\"Horas extra dobles 10\")\n",
        "  print(\"Horas extras triples 10\")\n",
        "  pago = 40 * sueldoH\n",
        "  print(\"Sueldo base: $\",pago)\n",
        "  pagoDloble = 10 * sueldoH * 2\n",
        "  print(\"Pago de horas extra dobles:\",pagoDoble)\n",
        "  pagoTriple = extrasTriples * sueldoH * 3\n",
        "  print(\"pago de horas extras triples:\", pagoTriple)\n",
        "  print(\"incentivo por trabajar mas de 60 horas: $2000\")\n",
        "  pagoFinal = pago + pagoDoble + pagoTriple + 2000\n",
        "  print(\"El sueldo Final de : \" ,nombre , \"Es $\", pagoFinal)\n"
      ],
      "execution_count": null,
      "outputs": [
        {
          "output_type": "stream",
          "text": [
            "Ingrese el nombre del trabjador\n",
            "Diego\n",
            "Cuantas horas trabajo esta semana Diego :\n",
            "51\n",
            "Cuanto se paga por hora?:\n",
            "100\n",
            "horas extra dobles:10\n",
            "horas extra triples: 1\n",
            "sueldo base:$ 4000.0\n",
            "pago de horas extras dobles: 2000.0\n",
            "pago de horas extra triples: 300.0\n",
            "El sueldo Final de :  Diego Es $ 6300.0\n"
          ],
          "name": "stdout"
        }
      ]
    }
  ]
}