{
  "nbformat": 4,
  "nbformat_minor": 0,
  "metadata": {
    "colab": {
      "name": "19_ENERO_2021CYP.ipynb",
      "provenance": [],
      "authorship_tag": "ABX9TyN+6AuI5R/h5MxUYLbsmV2g",
      "include_colab_link": true
    },
    "kernelspec": {
      "name": "python3",
      "display_name": "Python 3"
    }
  },
  "cells": [
    {
      "cell_type": "markdown",
      "metadata": {
        "id": "view-in-github",
        "colab_type": "text"
      },
      "source": [
        "<a href=\"https://colab.research.google.com/github/Eiram1/cyp_2021/blob/main/19_ENERO_2021CYP.ipynb\" target=\"_parent\"><img src=\"https://colab.research.google.com/assets/colab-badge.svg\" alt=\"Open In Colab\"/></a>"
      ]
    },
    {
      "cell_type": "markdown",
      "metadata": {
        "id": "XPaiFa6Pq9BS"
      },
      "source": [
        "# Slicing (XContinuación)\r\n",
        "\r\n",
        "[inicio:  stop:  incremento]\r\n",
        "\r\n",
        "Notas:\r\n",
        "- El stop no es incluido\r\n",
        "- El incremento se puede modificar  \r\n",
        "- Soporta indexado alternativo (negativos)"
      ]
    },
    {
      "cell_type": "code",
      "metadata": {
        "colab": {
          "base_uri": "https://localhost:8080/"
        },
        "id": "SXZvgAERrZi1",
        "outputId": "f1be1bc5-03df-478f-8fec-c6568beb297d"
      },
      "source": [
        "frase = \"Como hacer a la gente mas positiva?, muy facil, has que pierdan un electron!\"\r\n",
        "print(frase)\r\n",
        "    # Imprimir \"ace\" de la palabra hacer\r\n",
        "print(frase[6 : 9 : 1])\r\n",
        "\r\n",
        "    # Valores por defecto\r\n",
        "print(frase[ : 5 : 2 ])\r\n",
        "\r\n",
        "print(len(frase))\r\n",
        "    # Incremento\r\n",
        "print(frase[ : : 2 ])\r\n",
        "print(frase[ -1 : : -1 ]) #Inverso -77\r\n",
        "\r\n",
        "nombre = \"Eiram Diego\"\r\n",
        "primer = nombre[:5:]\r\n",
        "print(primer)\r\n",
        "print(nombre[-11 :: 1])"
      ],
      "execution_count": 35,
      "outputs": [
        {
          "output_type": "stream",
          "text": [
            "Como hacer a la gente mas positiva?, muy facil, has que pierdan un electron!\n",
            "ace\n",
            "Cm \n",
            "76\n",
            "Cm ae  agnemspstv? u ai,hsqepednu lcrn\n",
            "!nortcele nu nadreip euq sah ,licaf yum ,?avitisop sam etneg al a recah omoC\n",
            "Eiram\n",
            "Eiram Diego\n"
          ],
          "name": "stdout"
        }
      ]
    },
    {
      "cell_type": "markdown",
      "metadata": {
        "id": "lvMG_P_ZxU8b"
      },
      "source": [
        "# Métodos de la clase string (str)\r\n",
        "En python todo es un objeto (P. O. O.), eso significa que cada tipo de datos trae consigo funciones incluidas.\r\n",
        "Para identíficar los métodos disponibles sé puede usar 1 de 2 funciones\r\n",
        "1. dir( str )  # resumén de los métodos en esa clase\r\n",
        "2. help( str ) # información completa de los métodos de esa clase"
      ]
    },
    {
      "cell_type": "code",
      "metadata": {
        "colab": {
          "base_uri": "https://localhost:8080/",
          "height": 276
        },
        "id": "8mMoandayOku",
        "outputId": "bea5f579-199d-41cd-a742-059308438315"
      },
      "source": [
        "nombre = \"Eiram Diego\"\r\n",
        "print(nombre)\r\n",
        "print(dir(str)) \r\n",
        "\r\n",
        "metodos = dir(str.find)\r\n",
        "for i in range (metodos):\r\n",
        "  print(metodos)"
      ],
      "execution_count": 51,
      "outputs": [
        {
          "output_type": "stream",
          "text": [
            "Eiram Diego\n",
            "['__add__', '__class__', '__contains__', '__delattr__', '__dir__', '__doc__', '__eq__', '__format__', '__ge__', '__getattribute__', '__getitem__', '__getnewargs__', '__gt__', '__hash__', '__init__', '__init_subclass__', '__iter__', '__le__', '__len__', '__lt__', '__mod__', '__mul__', '__ne__', '__new__', '__reduce__', '__reduce_ex__', '__repr__', '__rmod__', '__rmul__', '__setattr__', '__sizeof__', '__str__', '__subclasshook__', 'capitalize', 'casefold', 'center', 'count', 'encode', 'endswith', 'expandtabs', 'find', 'format', 'format_map', 'index', 'isalnum', 'isalpha', 'isdecimal', 'isdigit', 'isidentifier', 'islower', 'isnumeric', 'isprintable', 'isspace', 'istitle', 'isupper', 'join', 'ljust', 'lower', 'lstrip', 'maketrans', 'partition', 'replace', 'rfind', 'rindex', 'rjust', 'rpartition', 'rsplit', 'rstrip', 'split', 'splitlines', 'startswith', 'strip', 'swapcase', 'title', 'translate', 'upper', 'zfill']\n"
          ],
          "name": "stdout"
        },
        {
          "output_type": "error",
          "ename": "TypeError",
          "evalue": "ignored",
          "traceback": [
            "\u001b[0;31m---------------------------------------------------------------------------\u001b[0m",
            "\u001b[0;31mTypeError\u001b[0m                                 Traceback (most recent call last)",
            "\u001b[0;32m<ipython-input-51-a030d88e69a7>\u001b[0m in \u001b[0;36m<module>\u001b[0;34m()\u001b[0m\n\u001b[1;32m      4\u001b[0m \u001b[0;34m\u001b[0m\u001b[0m\n\u001b[1;32m      5\u001b[0m \u001b[0mmetodos\u001b[0m \u001b[0;34m=\u001b[0m \u001b[0mdir\u001b[0m\u001b[0;34m(\u001b[0m\u001b[0mstr\u001b[0m\u001b[0;34m.\u001b[0m\u001b[0mfind\u001b[0m\u001b[0;34m)\u001b[0m\u001b[0;34m\u001b[0m\u001b[0;34m\u001b[0m\u001b[0m\n\u001b[0;32m----> 6\u001b[0;31m \u001b[0;32mfor\u001b[0m \u001b[0mi\u001b[0m \u001b[0;32min\u001b[0m \u001b[0mrange\u001b[0m \u001b[0;34m(\u001b[0m\u001b[0mmetodos\u001b[0m\u001b[0;34m)\u001b[0m\u001b[0;34m:\u001b[0m\u001b[0;34m\u001b[0m\u001b[0;34m\u001b[0m\u001b[0m\n\u001b[0m\u001b[1;32m      7\u001b[0m   \u001b[0mprint\u001b[0m\u001b[0;34m(\u001b[0m\u001b[0mmetodos\u001b[0m\u001b[0;34m)\u001b[0m\u001b[0;34m\u001b[0m\u001b[0;34m\u001b[0m\u001b[0m\n",
            "\u001b[0;31mTypeError\u001b[0m: 'list' object cannot be interpreted as an integer"
          ]
        }
      ]
    },
    {
      "cell_type": "markdown",
      "metadata": {
        "id": "MdrTmj0dyuMH"
      },
      "source": [
        "Los nombres de métodos que incian con doble guion bajo (__) significa que son métodos privados (POO), no tendrías porque usarlos como programador.\r\n",
        "Los demás métodos son públicos y son de libre uso  "
      ]
    },
    {
      "cell_type": "code",
      "metadata": {
        "colab": {
          "base_uri": "https://localhost:8080/"
        },
        "id": "nu0bvF4pzc4J",
        "outputId": "2009158d-eb20-4e57-ee45-61db27fde521"
      },
      "source": [
        "print( nombre.islower() )\r\n",
        "estado = \"ACHICOPALADO\"\r\n",
        "print(estado.capitalize())\r\n",
        "print(estado.endswith(\"ADO\"))\r\n",
        "print(estado.replace(\"A\", \"*\"))\r\n",
        "print(estado.lower())\r\n",
        "ind_a = estado.find(\"A\")\r\n",
        "print(ind_a)\r\n",
        "estado = estado[ :ind_a]+ \"@\" + estado [ ind_a + 1::]\r\n",
        "print(estado)\r\n",
        "print(estado.replace(\"A\",\"@\",0))\r\n",
        "nombre = \"Diego\"\r\n",
        "print(nombre.upper())\r\n",
        "nombre = \"josé josé, el pricipe de la canción\"\r\n",
        "print(nombre.count(\"josé\"))"
      ],
      "execution_count": 64,
      "outputs": [
        {
          "output_type": "stream",
          "text": [
            "False\n",
            "Achicopalado\n",
            "True\n",
            "*CHICOP*L*DO\n",
            "achicopalado\n",
            "0\n",
            "@CHICOPALADO\n",
            "@CHICOPALADO\n",
            "DIEGO\n",
            "2\n"
          ],
          "name": "stdout"
        }
      ]
    },
    {
      "cell_type": "code",
      "metadata": {
        "colab": {
          "base_uri": "https://localhost:8080/"
        },
        "id": "XE_I1vKjz8kk",
        "outputId": "ecebcd08-3290-47ca-fccc-37333b623a94"
      },
      "source": [
        "print( help(str.replace) )"
      ],
      "execution_count": 58,
      "outputs": [
        {
          "output_type": "stream",
          "text": [
            "Help on method_descriptor:\n",
            "\n",
            "replace(...)\n",
            "    S.replace(old, new[, count]) -> str\n",
            "    \n",
            "    Return a copy of S with all occurrences of substring\n",
            "    old replaced by new.  If the optional argument count is\n",
            "    given, only the first count occurrences are replaced.\n",
            "\n",
            "None\n"
          ],
          "name": "stdout"
        }
      ]
    },
    {
      "cell_type": "code",
      "metadata": {
        "colab": {
          "base_uri": "https://localhost:8080/"
        },
        "id": "Sj3TKr_d4_kb",
        "outputId": "56ce5c90-e438-472d-d0f1-a5e4e97d71f7"
      },
      "source": [
        "# Métodos para procesar strings\r\n",
        "\r\n",
        "numeros = \"  2  ,  1 , 3 , 4,    5   ,   45     ,   7     \"\r\n",
        "print(numeros)\r\n",
        "# Como extraigo los números de la cadena\r\n",
        "# 1. Eliminar los espacios al principio y al final con strip()\r\n",
        "numeros = numeros.strip()\r\n",
        "print(numeros)\r\n",
        "# 2. Separo por comas\r\n",
        "numeros = numeros.split(\",\")\r\n",
        "print(numeros)\r\n",
        "# 3. con un for e indices limpiar cadenas de la lista \r\n",
        "for indice in range(len(numeros)):\r\n",
        "  numeros[indice] = numeros[indice].strip()\r\n",
        "print(numeros)\r\n",
        "# 4. Convertir los numeros a tipo entero\r\n",
        "for indice in range(len(numeros)):\r\n",
        "  numeros[indice] = int(numeros[indice])\r\n",
        "print(numeros)\r\n",
        "# 5. Usar los números\r\n",
        "\r\n",
        "print(help(str.strip))\r\n",
        "print(help(str.split))"
      ],
      "execution_count": 83,
      "outputs": [
        {
          "output_type": "stream",
          "text": [
            "  2  ,  1 , 3 , 4,    5   ,   45     ,   7     \n",
            "2  ,  1 , 3 , 4,    5   ,   45     ,   7\n",
            "['2  ', '  1 ', ' 3 ', ' 4', '    5   ', '   45     ', '   7']\n",
            "['2', '1', '3', '4', '5', '45', '7']\n",
            "[2, 1, 3, 4, 5, 45, 7]\n",
            "Help on method_descriptor:\n",
            "\n",
            "strip(...)\n",
            "    S.strip([chars]) -> str\n",
            "    \n",
            "    Return a copy of the string S with leading and trailing\n",
            "    whitespace removed.\n",
            "    If chars is given and not None, remove characters in chars instead.\n",
            "\n",
            "None\n",
            "Help on method_descriptor:\n",
            "\n",
            "split(...)\n",
            "    S.split(sep=None, maxsplit=-1) -> list of strings\n",
            "    \n",
            "    Return a list of the words in S, using sep as the\n",
            "    delimiter string.  If maxsplit is given, at most maxsplit\n",
            "    splits are done. If sep is not specified or is None, any\n",
            "    whitespace string is a separator and empty strings are\n",
            "    removed from the result.\n",
            "\n",
            "None\n"
          ],
          "name": "stdout"
        }
      ]
    }
  ]
}