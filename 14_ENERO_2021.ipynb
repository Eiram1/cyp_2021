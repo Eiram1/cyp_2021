{
  "nbformat": 4,
  "nbformat_minor": 0,
  "metadata": {
    "colab": {
      "name": "14_ENERO_2021.ipynb",
      "provenance": [],
      "authorship_tag": "ABX9TyOp3qwEI61RKzt+lJhcYwbj",
      "include_colab_link": true
    },
    "kernelspec": {
      "name": "python3",
      "display_name": "Python 3"
    }
  },
  "cells": [
    {
      "cell_type": "markdown",
      "metadata": {
        "id": "view-in-github",
        "colab_type": "text"
      },
      "source": [
        "<a href=\"https://colab.research.google.com/github/Eiram1/cyp_2021/blob/main/14_ENERO_2021.ipynb\" target=\"_parent\"><img src=\"https://colab.research.google.com/assets/colab-badge.svg\" alt=\"Open In Colab\"/></a>"
      ]
    },
    {
      "cell_type": "markdown",
      "metadata": {
        "id": "0leklylM5bjT"
      },
      "source": [
        "# Palabras reservadas de python 3\r\n",
        "False,None,True,and,as,assert,break,class,continue,def,del,elif,else,except,finally,for,from,global,if,import,in,is,lambda,nonlocal,not,or,pass,raise,return,try,while,with,yield,\r\n"
      ]
    },
    {
      "cell_type": "code",
      "metadata": {
        "colab": {
          "base_uri": "https://localhost:8080/"
        },
        "id": "cJlPfAYK5faI",
        "outputId": "7604bebb-4b95-40d5-a1a8-c798eccbece6"
      },
      "source": [
        "import keyword\r\n",
        "pr = keyword.kwlist\r\n",
        "print( len(pr))\r\n",
        "for palabra in pr:\r\n",
        "  print(\"1.-\",palabra)"
      ],
      "execution_count": 9,
      "outputs": [
        {
          "output_type": "stream",
          "text": [
            "33\n",
            "1.- False\n",
            "1.- None\n",
            "1.- True\n",
            "1.- and\n",
            "1.- as\n",
            "1.- assert\n",
            "1.- break\n",
            "1.- class\n",
            "1.- continue\n",
            "1.- def\n",
            "1.- del\n",
            "1.- elif\n",
            "1.- else\n",
            "1.- except\n",
            "1.- finally\n",
            "1.- for\n",
            "1.- from\n",
            "1.- global\n",
            "1.- if\n",
            "1.- import\n",
            "1.- in\n",
            "1.- is\n",
            "1.- lambda\n",
            "1.- nonlocal\n",
            "1.- not\n",
            "1.- or\n",
            "1.- pass\n",
            "1.- raise\n",
            "1.- return\n",
            "1.- try\n",
            "1.- while\n",
            "1.- with\n",
            "1.- yield\n"
          ],
          "name": "stdout"
        }
      ]
    },
    {
      "cell_type": "markdown",
      "metadata": {
        "id": "ias0VhC666VR"
      },
      "source": [
        "#Variable\r\n",
        "es un espacio de memoria de la computadora que cambia a lo largo de la ejecución del programa. Este espacio de memoria estaa referenciado por un identificado, el cual tiene ciertas reglas de nombrado.\r\n",
        "- No puede iniciar con número\r\n",
        "- No debe ser igual a una de las palabras reservadas.\r\n",
        "- Evitar nombres de variables largos.\r\n",
        "- Evitar muy cortos (x, y, z, i).\r\n",
        "- Usar notacion snake_case"
      ]
    },
    {
      "cell_type": "code",
      "metadata": {
        "colab": {
          "base_uri": "https://localhost:8080/",
          "height": 53
        },
        "id": "Jf9sWsDc7v9E",
        "outputId": "2dbeabc4-ed90-4b83-da0f-cace19b5b163"
      },
      "source": [
        "_2edad = 12\r\n",
        "print(_2edad)\r\n",
        "\r\n",
        "\"\"\"\r\n",
        "\r\n",
        "No se puede poner una palabra reservada como identificador de variable EJEMPLO:\r\n",
        "\r\n",
        "for = 14\r\n",
        "print(for)\r\n",
        "\r\n",
        "\"\"\"\r\n",
        "\r\n"
      ],
      "execution_count": 17,
      "outputs": [
        {
          "output_type": "stream",
          "text": [
            "12\n"
          ],
          "name": "stdout"
        },
        {
          "output_type": "execute_result",
          "data": {
            "application/vnd.google.colaboratory.intrinsic+json": {
              "type": "string"
            },
            "text/plain": [
              "'\\n\\nNo se puede poner una palabra reservada como identificador de variable EJEMPLO:\\n\\n\\nfor = 14\\nprint(for)\\n\\n'"
            ]
          },
          "metadata": {
            "tags": []
          },
          "execution_count": 17
        }
      ]
    },
    {
      "cell_type": "code",
      "metadata": {
        "id": "8kWxaupY8nd_"
      },
      "source": [
        "\"\"\"\r\n",
        "La notación snake-case consta de formar el identificador de variable separando \r\n",
        "las palabras del mismo con un guión bajo.\r\n",
        "\r\n",
        "Se recomienda que los idenitificadores se escriban en minúscula para las \r\n",
        "variables y en mayúscula para las constantes.\r\n",
        "\r\n",
        "Es decir, si tenemos una variable para los días de la semana, se escribiría así:\r\n",
        "\r\n",
        "dias_de_la_semana=7\r\n",
        "dias_mes=31\r\n",
        "\r\n",
        "\"\"\""
      ],
      "execution_count": null,
      "outputs": []
    },
    {
      "cell_type": "markdown",
      "metadata": {
        "id": "i4w7g6AK9-zP"
      },
      "source": [
        "# Tipos de datos\r\n",
        "  - Númericos \r\n",
        "    - Int 4 bites (1, 2, 3, 20, 50, 3092, etc.) \r\n",
        "    - Float 4 bytes (0.001, 1.23, 5.66, etc)\r\n",
        "    - Long 8 bytes (1, 2.4356, etc)\r\n",
        "    - Complex 3 + 2j (Raices negativas)\r\n",
        "  - Booleano   True   o    False\r\n",
        "  - String cadenas de caracteres (\"cad\", \"cad  o  \"\"\"cad\"\"\"\") \r\n",
        "  - Listas ( [1, 2, 3, 4] , [a, b, 1, 2, 3])\r\n",
        "  - Tuplas (      (edad,23)  ,  (3, 4)     )\r\n",
        "  - Conjuntos\r\n",
        "  - Diccionarios ( {\"nombre \":\"Juan\"} )\r\n"
      ]
    },
    {
      "cell_type": "markdown",
      "metadata": {
        "id": "knSnOByVEI76"
      },
      "source": [
        "# Tipo de datos string\r\n",
        "\r\n",
        "Este tipo de dato permite almacear cadenas de caracteres, como por ejemplo:\r\n",
        "\r\n",
        "```\r\n",
        "Nombre = 'Jesús'\r\n",
        "lugar_nacimiento = \"México D.F., Tacuba \"\r\n",
        "frase_favorita = \"\"\"\r\n",
        "El conocimiento\r\n",
        "me persigue,\r\n",
        "pero...\r\n",
        "yo soy  mas rapido!!!\r\n",
        ":)\r\n",
        "\"\"\"\r\n",
        "```"
      ]
    },
    {
      "cell_type": "code",
      "metadata": {
        "colab": {
          "base_uri": "https://localhost:8080/"
        },
        "id": "kpCjxJR6JChi",
        "outputId": "a964e66d-b102-4a55-a7cd-8f9a4c8badfc"
      },
      "source": [
        "nombre = 'Jesús'\r\n",
        "lugar_nacimiento = \"México D.F., Tacuba \"\r\n",
        "frase_favorita = \"\"\"\r\n",
        "El conocimiento\r\n",
        "me persigue,\r\n",
        "pero...\r\n",
        "yo soy  mas rapido!!!\r\n",
        ":)\r\n",
        "\"\"\"\r\n",
        "print(nombre)\r\n",
        "print(lugar_nacimiento)\r\n",
        "print(frase_favorita)"
      ],
      "execution_count": 29,
      "outputs": [
        {
          "output_type": "stream",
          "text": [
            "Jesús\n",
            "México D.F., Tacuba \n",
            "\n",
            "El conocimiento\n",
            "me persigue,\n",
            "pero...\n",
            "yo soy  mas rapido!!!\n",
            ":)\n",
            "\n"
          ],
          "name": "stdout"
        }
      ]
    },
    {
      "cell_type": "markdown",
      "metadata": {
        "id": "XBLiMpNjF3dK"
      },
      "source": [
        "# String como arreglo\r\n",
        "Un string en python es almacenado como el tipo de dato (Estructura de datos) arreglo.\r\n",
        "\r\n",
        "Por ejemplo la declaración:\r\n",
        "```\r\n",
        "nombre = `Jesús`\r\n",
        "\r\n",
        "```\r\n",
        "El elemento \"J\" es almacenado como un arreglo en la posición 0\r\n",
        "La \"e\" en la 1 y asi consecutivamente\r\n",
        "\r\n",
        "### Selector\r\n",
        "La notación para seleccionar un elemento de arreglo es:\r\n",
        " "
      ]
    },
    {
      "cell_type": "markdown",
      "metadata": {
        "id": "CUanQUZ5HikL"
      },
      "source": [
        "# Iterar sobre un string\r\n",
        "\r\n",
        "Se puede iterar sobre un string con un for de la siguiente manera:\r\n",
        "\r\n",
        "```\r\n",
        "for letra in range ( len(nombre) ):\r\n",
        "  print(letra)\r\n",
        "```\r\n"
      ]
    },
    {
      "cell_type": "code",
      "metadata": {
        "colab": {
          "base_uri": "https://localhost:8080/"
        },
        "id": "DVxHOg0QIZ-x",
        "outputId": "fc7bcc4f-d705-4d81-bb99-e5931c058aac"
      },
      "source": [
        "  for indice in range( len(nombre) ): # 0, 1, 2, 3, 4\r\n",
        "    print( indice, end = \" \")\r\n",
        "    print( nombre[indice] )"
      ],
      "execution_count": 31,
      "outputs": [
        {
          "output_type": "stream",
          "text": [
            "0 J\n",
            "1 e\n",
            "2 s\n",
            "3 ú\n",
            "4 s\n"
          ],
          "name": "stdout"
        }
      ]
    },
    {
      "cell_type": "markdown",
      "metadata": {
        "id": "NyzVRiSQKA1l"
      },
      "source": [
        "# Función range (inicio, stop, incremento)\r\n",
        "\r\n",
        "El inicio es opcional y por defecto tiene valor 0\r\n",
        "\r\n",
        "El incremento también es opcional y por defecto es 1"
      ]
    },
    {
      "cell_type": "code",
      "metadata": {
        "colab": {
          "base_uri": "https://localhost:8080/"
        },
        "id": "t1eyX5l0J0jk",
        "outputId": "4542e597-a90e-4367-b113-1cb52900a02b"
      },
      "source": [
        "for indice in range(1, len(nombre) , 1):\r\n",
        "  print( nombre[indice] )"
      ],
      "execution_count": 35,
      "outputs": [
        {
          "output_type": "stream",
          "text": [
            "e\n",
            "s\n",
            "ú\n",
            "s\n"
          ],
          "name": "stdout"
        }
      ]
    },
    {
      "cell_type": "code",
      "metadata": {
        "colab": {
          "base_uri": "https://localhost:8080/"
        },
        "id": "9VqmGsGKLkDg",
        "outputId": "051eaaae-db26-4f7e-f81a-fb9b61264927"
      },
      "source": [
        "for indice in range(4, -1, -1):\r\n",
        "  print( nombre[indice] )"
      ],
      "execution_count": 36,
      "outputs": [
        {
          "output_type": "stream",
          "text": [
            "s\n",
            "ú\n",
            "s\n",
            "e\n",
            "J\n"
          ],
          "name": "stdout"
        }
      ]
    },
    {
      "cell_type": "markdown",
      "metadata": {
        "id": "jNAhG6nLL9Xh"
      },
      "source": [
        "# String e indexado negativo \r\n",
        "En python 3 se agrega una nueva caracteristica a los arreglos de las cadenas de los caracteres, esta consta de la capacidad de indexar de forma negativa \r\n",
        "\r\n",
        "La lógica es la siguiente:\r\n",
        "\r\n",
        "El último se le considera como índice (ALTERNATIVO) -1, con lo cual se podriá referenciar el final de la cadena sin la necesidad de saber el tamaño de la misma\r\n",
        "\r\n",
        "```\r\n",
        "nombre = 'Diego'\r\n",
        "```\r\n",
        "Indice normal          0 1 2 3 4\r\n",
        "                       D i e g o\r\n",
        "Indice alternativo     4 3 2 1 0"
      ]
    },
    {
      "cell_type": "code",
      "metadata": {
        "id": "jFEG4rfUMwZh"
      },
      "source": [
        "nombre = \"Jesús\"\r\n"
      ],
      "execution_count": null,
      "outputs": []
    }
  ]
}