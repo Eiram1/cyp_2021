{
  "nbformat": 4,
  "nbformat_minor": 0,
  "metadata": {
    "colab": {
      "name": "TAREA_5.ipynb",
      "provenance": [],
      "authorship_tag": "ABX9TyOyZ5YGgQWtxSJqOE1Pqd3e",
      "include_colab_link": true
    },
    "kernelspec": {
      "name": "python3",
      "display_name": "Python 3"
    }
  },
  "cells": [
    {
      "cell_type": "markdown",
      "metadata": {
        "id": "view-in-github",
        "colab_type": "text"
      },
      "source": [
        "<a href=\"https://colab.research.google.com/github/Eiram1/cyp_2021/blob/main/TAREA_5.ipynb\" target=\"_parent\"><img src=\"https://colab.research.google.com/assets/colab-badge.svg\" alt=\"Open In Colab\"/></a>"
      ]
    },
    {
      "cell_type": "code",
      "metadata": {
        "colab": {
          "base_uri": "https://localhost:8080/"
        },
        "id": "uJyWXKjJkYkx",
        "outputId": "bd783b46-e7dd-4549-f8d5-75e4ac9ac876"
      },
      "source": [
        "# EJERCICIO 3.1  FOR\n",
        "\n",
        "Nomina = 0\n",
        "Trabajador = [1, 2, 3, 4, 5, 6, 7, 8, 9, 10]\n",
        "for i in Trabajador:\n",
        "  NOM = float(input(f\"Ingrese el el sueldo del trabajador #{i} \"))\n",
        "  Nomina = Nomina + NOM\n",
        "  print(\"La nomina de la empresa es de $:\", Nomina)"
      ],
      "execution_count": 28,
      "outputs": [
        {
          "output_type": "stream",
          "text": [
            "Ingrese el el sueldo del trabajador #1 1500\n",
            "La nomina de la empresa es de $: 1500.0\n",
            "Ingrese el el sueldo del trabajador #2 890\n",
            "La nomina de la empresa es de $: 2390.0\n",
            "Ingrese el el sueldo del trabajador #3 700\n",
            "La nomina de la empresa es de $: 3090.0\n",
            "Ingrese el el sueldo del trabajador #4 950\n",
            "La nomina de la empresa es de $: 4040.0\n",
            "Ingrese el el sueldo del trabajador #5 2300\n",
            "La nomina de la empresa es de $: 6340.0\n",
            "Ingrese el el sueldo del trabajador #6 1650\n",
            "La nomina de la empresa es de $: 7990.0\n",
            "Ingrese el el sueldo del trabajador #7 1800\n",
            "La nomina de la empresa es de $: 9790.0\n",
            "Ingrese el el sueldo del trabajador #8 1400\n",
            "La nomina de la empresa es de $: 11190.0\n",
            "Ingrese el el sueldo del trabajador #9 760\n",
            "La nomina de la empresa es de $: 11950.0\n",
            "Ingrese el el sueldo del trabajador #10 900\n",
            "La nomina de la empresa es de $: 12850.0\n"
          ],
          "name": "stdout"
        }
      ]
    },
    {
      "cell_type": "code",
      "metadata": {
        "colab": {
          "base_uri": "https://localhost:8080/"
        },
        "id": "Tf0Kot4HoYbE",
        "outputId": "805ee86a-c659-4b62-a0b0-08001fb96215"
      },
      "source": [
        "# EJEMPLO 3.4  \n",
        "\n",
        "SUMGAS = 0\n",
        "GASTO = 1.0\n",
        "while GASTO > 0.0:\n",
        "  EX = float (input(\"Dinero: $ \"))\n",
        "  SUMGAS += (EX if EX > 0.0 else 0.0)\n",
        "  GASTO = EX \n",
        "  print(f\"Los gastos son: $ {SUMGAS}\") "
      ],
      "execution_count": 29,
      "outputs": [
        {
          "output_type": "stream",
          "text": [
            "Dinero: $2528\n",
            "Los gastos son: $2528.0\n",
            "Dinero: $3500\n",
            "Los gastos son: $6028.0\n",
            "Dinero: $1600\n",
            "Los gastos son: $7628.0\n",
            "Dinero: $1850\n",
            "Los gastos son: $9478.0\n",
            "Dinero: $150\n",
            "Los gastos son: $9628.0\n",
            "Dinero: $-1\n",
            "Los gastos son: $9628.0\n"
          ],
          "name": "stdout"
        }
      ]
    }
  ]
}