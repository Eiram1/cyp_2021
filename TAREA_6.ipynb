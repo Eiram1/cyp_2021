{
  "nbformat": 4,
  "nbformat_minor": 0,
  "metadata": {
    "colab": {
      "name": "TAREA_6.ipynb",
      "provenance": [],
      "authorship_tag": "ABX9TyM+5F1zd8R2ved3VtVEyxsS",
      "include_colab_link": true
    },
    "kernelspec": {
      "display_name": "Python 3",
      "name": "python3"
    }
  },
  "cells": [
    {
      "cell_type": "markdown",
      "metadata": {
        "id": "view-in-github",
        "colab_type": "text"
      },
      "source": [
        "<a href=\"https://colab.research.google.com/github/Eiram1/cyp_2021/blob/main/TAREA_6.ipynb\" target=\"_parent\"><img src=\"https://colab.research.google.com/assets/colab-badge.svg\" alt=\"Open In Colab\"/></a>"
      ]
    },
    {
      "cell_type": "code",
      "metadata": {
        "colab": {
          "base_uri": "https://localhost:8080/"
        },
        "id": "Cn2zlW80jCW8",
        "outputId": "738a9121-61f3-46d0-ead6-abbe2b884f36"
      },
      "source": [
        "# EJEMPLO 3.3\r\n",
        "\r\n",
        "SERIE = 0\r\n",
        "N = int (input(\"Ingrese el número: \"))\r\n",
        "BAND = True\r\n",
        "i = 1\r\n",
        "while i <= N:\r\n",
        "  if BAND == True:\r\n",
        "     SERIE = SERIE + 1 / i\r\n",
        "     BAND = False\r\n",
        "  else:\r\n",
        "     SERIE = SERIE - 1 / i\r\n",
        "     BAND = True\r\n",
        "  i = i + 1 \r\n",
        "print(f\"{SERIE}\")"
      ],
      "execution_count": null,
      "outputs": [
        {
          "output_type": "stream",
          "text": [
            "Ingrese el número: 6\n",
            "0.6166666666666666\n"
          ],
          "name": "stdout"
        }
      ]
    },
    {
      "cell_type": "code",
      "metadata": {
        "id": "GdGn5OautTCI"
      },
      "source": [
        "# EJEMPLO 3.4\r\n",
        "\r\n",
        "NOM = 0\r\n",
        "SUE = float (input(\"Ingresa el sueldo: \"))\r\n",
        "while (SUE!=-1):\r\n",
        "  if SUE < 1000:\r\n",
        "    NSUE = SUE * 1.15\r\n",
        "  else: \r\n",
        "    NSUE = SUE * 1.12\r\n",
        "  NOM = NOM + NSUE\r\n",
        "  print(f\"{NSUE}\")\r\n",
        "  SUE = float (input(\"Ingresa el sueldo: \"))\r\n",
        "print(f\"La nomina es:{NOM}\")"
      ],
      "execution_count": null,
      "outputs": []
    },
    {
      "cell_type": "code",
      "metadata": {
        "colab": {
          "base_uri": "https://localhost:8080/"
        },
        "id": "X9q2keh09-E5",
        "outputId": "60f37a0e-4016-4e2e-ac29-0c425c92713f"
      },
      "source": [
        "# EJEMPLO 3.5\r\n",
        "\r\n",
        "SUMOTR = 0\r\n",
        "SUMPOS = 0\r\n",
        "CUEPOS = 0\r\n",
        "N = float (input(\"Ingresa el nùmero: \"))\r\n",
        "i = 1\r\n",
        "while i <= N:\r\n",
        "  NUM = float (input(\"Ingresa el num: \"))\r\n",
        "  if NUM > 0:\r\n",
        "    SUMPOS = SUMPOS + NUM\r\n",
        "    CUEPOS = CUEPOS + 1\r\n",
        "  else:\r\n",
        "    SUMOTR = SUMOTR + NUM\r\n",
        "  i = i + 1\r\n",
        "PROGEN = (SUMPOS + SUMOTR) / N\r\n",
        "PROPOS = SUMPOS / CUEPOS \r\n",
        "print(f\"{CUEPOS}, {PROGEN}, {PROPOS}\") "
      ],
      "execution_count": null,
      "outputs": [
        {
          "output_type": "stream",
          "text": [
            "Ingresa el nùmero: 20\n",
            "Ingresa el num: 7\n",
            "Ingresa el num: 12\n",
            "Ingresa el num: 0\n",
            "Ingresa el num: 6\n",
            "Ingresa el num: 11\n",
            "Ingresa el num: -3\n",
            "Ingresa el num: 17\n",
            "Ingresa el num: 12\n",
            "Ingresa el num: 19\n",
            "Ingresa el num: 0\n",
            "Ingresa el num: 11\n",
            "Ingresa el num: 4\n",
            "Ingresa el num: -5\n",
            "Ingresa el num: -1\n",
            "Ingresa el num: 0\n",
            "Ingresa el num: 3\n",
            "Ingresa el num: 24\n",
            "Ingresa el num: 0\n",
            "Ingresa el num: 3\n",
            "Ingresa el num: -16\n",
            "12, 10.75, 5.2\n"
          ],
          "name": "stdout"
        }
      ]
    },
    {
      "cell_type": "code",
      "metadata": {
        "colab": {
          "base_uri": "https://localhost:8080/"
        },
        "id": "hhqwjC4FEcbm",
        "outputId": "d375c044-79f3-4c78-ab61-c385c27bc085"
      },
      "source": [
        "# EJEMPLO 3.6\r\n",
        "\r\n",
        "MAY = -100000\r\n",
        "MEN = 100000\r\n",
        "N = float (input(\"Ingresa el número: \"))\r\n",
        "i = 1\r\n",
        "while i <= N:\r\n",
        "  NUM = float (input(\"Ingresa el NUM: \"))\r\n",
        "  if NUM > MAY:\r\n",
        "    MAY = NUM\r\n",
        "  if NUM < MEN:\r\n",
        "    MEN = NUM\r\n",
        "  i = i + 1\r\n",
        "print(f\"{MAY}, {MEN}\")"
      ],
      "execution_count": null,
      "outputs": [
        {
          "output_type": "stream",
          "text": [
            "Ingresa el número: 12\n",
            "Ingresa el NUM: 170\n",
            "Ingresa el NUM: 44\n",
            "Ingresa el NUM: 815\n",
            "Ingresa el NUM: 1700\n",
            "Ingresa el NUM: 38\n",
            "Ingresa el NUM: 140\n",
            "Ingresa el NUM: 380\n",
            "Ingresa el NUM: 1020\n",
            "Ingresa el NUM: 116\n",
            "Ingresa el NUM: 14\n",
            "Ingresa el NUM: 730\n",
            "Ingresa el NUM: 960\n",
            "1700.0, 14.0\n"
          ],
          "name": "stdout"
        }
      ]
    },
    {
      "cell_type": "code",
      "metadata": {
        "colab": {
          "base_uri": "https://localhost:8080/"
        },
        "id": "jNfFHdBeIjDX",
        "outputId": "adcfc59f-3f26-4c3b-d69d-12470dfbfbab"
      },
      "source": [
        "# EJEMPLO 3.7\r\n",
        "\r\n",
        "MED = 0\r\n",
        "CHI = 0\r\n",
        "GRA = 0\r\n",
        "N = int (input(\"Ingresa la cantidad de ventas realizadas: \"))\r\n",
        "for i in range (N):\r\n",
        "  V = float (input(\"Ingresa el valor de la venta: \"))\r\n",
        "  if (V <= 200):\r\n",
        "    CHI = CHI + 1\r\n",
        "  else:\r\n",
        "    if (V < 400):\r\n",
        "      MED = MED + 1\r\n",
        "    else:\r\n",
        "      GRA = GRA + 1\r\n",
        "  i = i + 1\r\n",
        "print(f\"Las ventas chicas fueron {CHI}, Las ventas medianas {MED}, Y las ventas grandes {GRA}\")"
      ],
      "execution_count": null,
      "outputs": [
        {
          "output_type": "stream",
          "text": [
            "Ingresa la cantidad de ventas realizadas: 12\n",
            "Ingresa el valor de la venta: 180.25\n",
            "Ingresa el valor de la venta: 470.30\n",
            "Ingresa el valor de la venta: 150.25\n",
            "Ingresa el valor de la venta: 88.60\n",
            "Ingresa el valor de la venta: 230.15\n",
            "Ingresa el valor de la venta: 170.20\n",
            "Ingresa el valor de la venta: 40.30\n",
            "Ingresa el valor de la venta: 201.90\n",
            "Ingresa el valor de la venta: 60.32\n",
            "Ingresa el valor de la venta: 280.30\n",
            "Ingresa el valor de la venta: 15.70\n",
            "Ingresa el valor de la venta: 140.20\n",
            "Las ventas chicas fueron 8, Las ventas medianas 3, Y las ventas grandes fueron1\n"
          ],
          "name": "stdout"
        }
      ]
    },
    {
      "cell_type": "code",
      "metadata": {
        "id": "Sd6dyg9lNu-g",
        "colab": {
          "base_uri": "https://localhost:8080/"
        },
        "outputId": "9ba744f8-7883-4436-b412-7e3f53f17a73"
      },
      "source": [
        "# EJEMPLO 3.8\r\n",
        "\r\n",
        "NUM = int (input(\"Ingresa un número entero y sea positivo: \"))\r\n",
        "if (NUM < 1):\r\n",
        "  print(\"Solo números positivos\")\r\n",
        "else:\r\n",
        "  SERIE = f\"{NUM},\"\r\n",
        "  while (NUM != 1):\r\n",
        "    NUM = (int (NUM/2)) if NUM % 2 == 0 else ((NUM * 3) + 1)\r\n",
        "    SERIE += (f\"{NUM},\") if NUM != 1 else (f\"{NUM}\")\r\n",
        "  print(SERIE)"
      ],
      "execution_count": null,
      "outputs": [
        {
          "output_type": "stream",
          "text": [
            "Ingresa un número entero y sea positivo: 25\n",
            "25,76,38,19,58,29,88,44,22,11,34,17,52,26,13,40,20,10,5,16,8,4,2,1\n"
          ],
          "name": "stdout"
        }
      ]
    },
    {
      "cell_type": "code",
      "metadata": {
        "id": "Ly05f7MCZLmV",
        "colab": {
          "base_uri": "https://localhost:8080/"
        },
        "outputId": "418c7108-73df-4d8c-d015-e7d781374a09"
      },
      "source": [
        "# EJEMPLO 3.9\r\n",
        "\r\n",
        "SERIE = 0 \r\n",
        "N = int (input(\"Ingresa el número entero: \"))\r\n",
        "i = 1\r\n",
        "for i in range(N + 1):\r\n",
        "  SERIE = SERIE + i ** i\r\n",
        "  i = i + 1\r\n",
        "print(f\"{SERIE}\")"
      ],
      "execution_count": null,
      "outputs": [
        {
          "output_type": "stream",
          "text": [
            "Ingresa el número entero: 8\n",
            "17650829\n"
          ],
          "name": "stdout"
        }
      ]
    },
    {
      "cell_type": "code",
      "metadata": {
        "colab": {
          "base_uri": "https://localhost:8080/"
        },
        "id": "NYxBMfqRd_6p",
        "outputId": "ec6ea0ff-c8f9-466d-9b76-b697f5fa6499"
      },
      "source": [
        "# EJEMPLO 3.10\r\n",
        "\r\n",
        "PRI = 0\r\n",
        "SEG = 1\r\n",
        "i = 3\r\n",
        "for i in range(180):\r\n",
        "  SIG = PRI + SEG\r\n",
        "  PRI = SEG\r\n",
        "  SEG = SIG\r\n",
        "  i = i + 1\r\n",
        "print(f\"{SIG}\")"
      ],
      "execution_count": null,
      "outputs": [
        {
          "output_type": "stream",
          "text": [
            "30010821454963453907530667147829489881\n"
          ],
          "name": "stdout"
        }
      ]
    },
    {
      "cell_type": "code",
      "metadata": {
        "colab": {
          "base_uri": "https://localhost:8080/"
        },
        "id": "r6Jb2TJHgBte",
        "outputId": "eea51613-4803-44fc-a937-4f3331800add"
      },
      "source": [
        "#EJEMPLO 3.11\r\n",
        "\r\n",
        "CAN1 = 0\r\n",
        "CAN2 = 0\r\n",
        "CAN3 = 0\r\n",
        "CAN4 = 0\r\n",
        "VOTO = int (input(\"¿Por qué candidato votas?: \"))\r\n",
        "while (VOTO > 0) and (VOTO < 5):\r\n",
        "  if (VOTO == 1):\r\n",
        "    CAN1 = CAN1 + 1\r\n",
        "  elif (VOTO == 2):\r\n",
        "    CAN2 = CAN2 + 1\r\n",
        "  elif (VOTO == 3):\r\n",
        "    CAN3 = CAN3 + 1\r\n",
        "  elif (VOTO == 4):\r\n",
        "    CAN4 = CAN4 + 1\r\n",
        "  VOTO = int (input(\"¿Por qué candidato votas?: \"))\r\n",
        "SUMV = CAN1 + CAN2 + CAN3 + CAN4\r\n",
        "POR1 = (CAN1 / SUMV) * 100\r\n",
        "POR2 = (CAN2 / SUMV) * 100\r\n",
        "POR3 = (CAN3 / SUMV) * 100\r\n",
        "POR4 = (CAN4 / SUMV) * 100\r\n",
        "print(f\"Los votos totales fueron:{SUMV1}\")\r\n",
        "print(f\"Votos candidato 1:{CAN1}, porcentage {POR1}\")\r\n",
        "print(f\"Votos candidato 2:{CAN2}, porcentage {POR2}\")\r\n",
        "print(f\"Votos candidato 3:{CAN3}, porcentage {POR3}\")\r\n",
        "print(f\"Votos candidato 4:{CAN4}, porcentage {POR4}\")"
      ],
      "execution_count": null,
      "outputs": [
        {
          "output_type": "stream",
          "text": [
            "¿Por qué candidato votas?: 1\n",
            "¿Por qué candidato votas?: 1\n",
            "¿Por qué candidato votas?: 2\n",
            "¿Por qué candidato votas?: 1\n",
            "¿Por qué candidato votas?: 3\n",
            "¿Por qué candidato votas?: 1\n",
            "¿Por qué candidato votas?: 1\n",
            "¿Por qué candidato votas?: 2\n",
            "¿Por qué candidato votas?: 4\n",
            "¿Por qué candidato votas?: 4\n",
            "¿Por qué candidato votas?: 3\n",
            "¿Por qué candidato votas?: 1\n",
            "¿Por qué candidato votas?: 1\n",
            "¿Por qué candidato votas?: 2\n",
            "¿Por qué candidato votas?: 3\n",
            "¿Por qué candidato votas?: 1\n",
            "¿Por qué candidato votas?: 4\n",
            "¿Por qué candidato votas?: 1\n",
            "¿Por qué candidato votas?: 2\n",
            "¿Por qué candidato votas?: 1\n",
            "¿Por qué candidato votas?: 2\n",
            "¿Por qué candidato votas?: 4\n",
            "¿Por qué candidato votas?: 4\n",
            "¿Por qué candidato votas?: 2\n",
            "¿Por qué candidato votas?: 1\n",
            "¿Por qué candidato votas?: 44\n",
            "Los votos totales fueron:25\n",
            "Votos candidato 1:11, porcentage 44.0\n",
            "Votos candidato 2:6, porcentage 24.0\n",
            "Votos candidato 3:3, porcentage 12.0\n",
            "Votos candidato 4:5, porcentage 20.0\n"
          ],
          "name": "stdout"
        }
      ]
    },
    {
      "cell_type": "code",
      "metadata": {
        "id": "zvAgxj_ok2Ou",
        "colab": {
          "base_uri": "https://localhost:8080/"
        },
        "outputId": "a91bf425-0c70-4b87-c47c-8a78a9e96a82"
      },
      "source": [
        "# EJEMPLO 3.12\r\n",
        "\r\n",
        "masue=0\r\n",
        "n= int (input(\"Ingrese la cantidad de empleados: \"))\r\n",
        "i=1\r\n",
        "for i in range (n):\r\n",
        "  print(f\"EMPLEADO NUMERO {i+1}\")\r\n",
        "  numemp= int (input(\"Ingrese su número de trabajador\\n\"))\r\n",
        "  sue= float (input(\"Ingrese su sueldo \\n$\"))\r\n",
        "  if (sue>masue):\r\n",
        "    masue= sue\r\n",
        "    manum=numemp\r\n",
        "  i=i+1\r\n",
        "\r\n",
        "print(\"El empleado con mayor sueldo es\",manum)\r\n",
        "print(\"Con un sueldo de $\",masue)"
      ],
      "execution_count": null,
      "outputs": [
        {
          "output_type": "stream",
          "text": [
            "Ingrese la cantidad de empleados6\n",
            "EMPLEADO NUMERO 1\n",
            "Ingrese su número de trabajador\n",
            "1235\n",
            "Ingrese su sueldo \n",
            "$2580\n",
            "EMPLEADO NUMERO 2\n",
            "Ingrese su número de trabajador\n",
            "1260\n",
            "Ingrese su sueldo \n",
            "$1400\n",
            "EMPLEADO NUMERO 3\n",
            "Ingrese su número de trabajador\n",
            "1325\n",
            "Ingrese su sueldo \n",
            "$3600\n",
            "EMPLEADO NUMERO 4\n",
            "Ingrese su número de trabajador\n",
            "1418\n",
            "Ingrese su sueldo \n",
            "$2720\n",
            "EMPLEADO NUMERO 5\n",
            "Ingrese su número de trabajador\n",
            "1650\n",
            "Ingrese su sueldo \n",
            "$4120\n",
            "EMPLEADO NUMERO 6\n",
            "Ingrese su número de trabajador\n",
            "1717\n",
            "Ingrese su sueldo \n",
            "$1950\n",
            "El empleado con mayor sueldo es  1650\n",
            "Con un sueldo de $ 4120.0\n"
          ],
          "name": "stdout"
        }
      ]
    },
    {
      "cell_type": "code",
      "metadata": {
        "colab": {
          "base_uri": "https://localhost:8080/"
        },
        "id": "p4ruheRAFSLD",
        "outputId": "854f250c-c615-4fb4-e131-c845ec8ca525"
      },
      "source": [
        "# EJEMPLO 3.13\r\n",
        "\r\n",
        "arsu=0\r\n",
        "arno=0\r\n",
        "mersu=500000\r\n",
        "arce=0\r\n",
        "i=1\r\n",
        "for i in range (12):\r\n",
        "  rno=float (input(f\"{i+1}.- Ingrese la cantidad de lluvias que hubo en la REGION NORTE\\n\"))\r\n",
        "  rce=float (input(f\"{i+1}.- Ingrese la cantidad de lluvias que hubo en la REGION CENTRO\\n\"))\r\n",
        "  rsu=float (input(f\"{i+1}.- Ingrese la cantidad de lluvias que hubo en la REGION SUR\\n\"))\r\n",
        "  arno=arno+rno\r\n",
        "  arce=arce+rce\r\n",
        "  arsu=arsu+rsu\r\n",
        "  if (rsu<mersu):\r\n",
        "    mersu=rsu\r\n",
        "    mes=i+1\r\n",
        "  i=i+1\r\n",
        "prorce=arce/12\r\n",
        "print(\"El promedio de lluvia de la region centro es\",prorce,\"%\")\r\n",
        "print(\"El mes con menor lluvia en la región sur fue\",mes)\r\n",
        "print(\"Registro del mes:\",mersu)\r\n",
        "\r\n",
        "if (arno>arce):\r\n",
        "  if (arno>arsu):\r\n",
        "    print(\"La region con mayor lluvia es la region norte\")\r\n",
        "  else: \r\n",
        "    print(\"La region con mayor lluvia es la region sur\")\r\n",
        "else:\r\n",
        "  if (arce>arsu):\r\n",
        "    print(\"La region con mayor lluvia es la region centro\")\r\n",
        "  else:\r\n",
        "    print(\"La region con mayot lluvia es la region sur\")"
      ],
      "execution_count": null,
      "outputs": [
        {
          "output_type": "stream",
          "text": [
            "1.- Ingrese la cantidad de lluvias que hubo en la REGION NORTE\n",
            "80\n",
            "1.- Ingrese la cantidad de lluvias que hubo en la REGION CENTRO\n",
            "70\n",
            "1.- Ingrese la cantidad de lluvias que hubo en la REGION SUR\n",
            "170\n",
            "2.- Ingrese la cantidad de lluvias que hubo en la REGION NORTE\n",
            "60\n",
            "2.- Ingrese la cantidad de lluvias que hubo en la REGION CENTRO\n",
            "85\n",
            "2.- Ingrese la cantidad de lluvias que hubo en la REGION SUR\n",
            "100\n",
            "3.- Ingrese la cantidad de lluvias que hubo en la REGION NORTE\n",
            "120\n",
            "3.- Ingrese la cantidad de lluvias que hubo en la REGION CENTRO\n",
            "100\n",
            "3.- Ingrese la cantidad de lluvias que hubo en la REGION SUR\n",
            "185\n",
            "4.- Ingrese la cantidad de lluvias que hubo en la REGION NORTE\n",
            "100\n",
            "4.- Ingrese la cantidad de lluvias que hubo en la REGION CENTRO\n",
            "90\n",
            "4.- Ingrese la cantidad de lluvias que hubo en la REGION SUR\n",
            "88\n",
            "5.- Ingrese la cantidad de lluvias que hubo en la REGION NORTE\n",
            "70\n",
            "5.- Ingrese la cantidad de lluvias que hubo en la REGION CENTRO\n",
            "82\n",
            "5.- Ingrese la cantidad de lluvias que hubo en la REGION SUR\n",
            "80\n",
            "6.- Ingrese la cantidad de lluvias que hubo en la REGION NORTE\n",
            "150\n",
            "6.- Ingrese la cantidad de lluvias que hubo en la REGION CENTRO\n",
            "130\n",
            "6.- Ingrese la cantidad de lluvias que hubo en la REGION SUR\n",
            "122\n",
            "7.- Ingrese la cantidad de lluvias que hubo en la REGION NORTE\n",
            "100\n",
            "7.- Ingrese la cantidad de lluvias que hubo en la REGION CENTRO\n",
            "95\n",
            "7.- Ingrese la cantidad de lluvias que hubo en la REGION SUR\n",
            "67\n",
            "8.- Ingrese la cantidad de lluvias que hubo en la REGION NORTE\n",
            "47\n",
            "8.- Ingrese la cantidad de lluvias que hubo en la REGION CENTRO\n",
            "38\n",
            "8.- Ingrese la cantidad de lluvias que hubo en la REGION SUR\n",
            "55\n",
            "9.- Ingrese la cantidad de lluvias que hubo en la REGION NORTE\n",
            "95\n",
            "9.- Ingrese la cantidad de lluvias que hubo en la REGION CENTRO\n",
            "115\n",
            "9.- Ingrese la cantidad de lluvias que hubo en la REGION SUR\n",
            "110\n",
            "10.- Ingrese la cantidad de lluvias que hubo en la REGION NORTE\n",
            "70\n",
            "10.- Ingrese la cantidad de lluvias que hubo en la REGION CENTRO\n",
            "62\n",
            "10.- Ingrese la cantidad de lluvias que hubo en la REGION SUR\n",
            "83\n",
            "11.- Ingrese la cantidad de lluvias que hubo en la REGION NORTE\n",
            "100\n",
            "11.- Ingrese la cantidad de lluvias que hubo en la REGION CENTRO\n",
            "87\n",
            "11.- Ingrese la cantidad de lluvias que hubo en la REGION SUR\n",
            "107\n",
            "12.- Ingrese la cantidad de lluvias que hubo en la REGION NORTE\n",
            "130\n",
            "12.- Ingrese la cantidad de lluvias que hubo en la REGION CENTRO\n",
            "103\n",
            "12.- Ingrese la cantidad de lluvias que hubo en la REGION SUR\n",
            "148\n",
            "El promedio de lluvia de la region centro es 88.08333333333333 %\n",
            "El mes con menor lluvia en la región sur fue 8\n",
            "Registro del mes: 55.0\n",
            "La region con mayor lluvia es la region sur\n"
          ],
          "name": "stdout"
        }
      ]
    },
    {
      "cell_type": "code",
      "metadata": {
        "id": "1BRTI-bcG0OG"
      },
      "source": [
        "# EJEMPLO 3.14\r\n",
        "\r\n",
        "ap1=0\r\n",
        "ap2=0\r\n",
        "ap3=0\r\n",
        "ap4=0\r\n",
        "ap5=0\r\n",
        "recau=0\r\n",
        "p1=float (input(\"Ingrese el precio de la localidad #1\\n $\"))\r\n",
        "p2=float (input(\"Ingrese el precio de la localidad #2\\n $\"))\r\n",
        "p3=float (input(\"Ingrese el precio de la localidad #3\\n $\"))\r\n",
        "p4=float (input(\"Ingrese el precio de la localidad #4\\n $\"))\r\n",
        "p5=float (input(\"Ingrese el precio de la localidad #5\\n $\"))\r\n",
        "clave=int (input(\"Indique el número de la localidad que desea comprar\\n\"))\r\n",
        "cant= int (input(\"¿Cuantos desea comprar?\\n\"))\r\n",
        "while ((clave!=-1) and (cant!=-1)):\r\n",
        "  if (clave<1) and (clave>4):\r\n",
        "    print(\"No existe esa clave\")\r\n",
        "  elif (clave==1):\r\n",
        "    pre=p1*cant\r\n",
        "    ap1=ap1+cant\r\n",
        "  elif (clave==2):\r\n",
        "    pre=p2*cant\r\n",
        "    ap2=ap2+cant\r\n",
        "  elif (clave==3):\r\n",
        "    pre=p3*cant\r\n",
        "    ap3=ap3+cant\r\n",
        "  elif (clave==4):\r\n",
        "    pre=p4*cant\r\n",
        "    ap4=ap4+cant \r\n",
        "  elif (clave==5):\r\n",
        "    pre=p5*cant\r\n",
        "    ap5=ap5+cant \r\n",
        "\r\n",
        "  print(\"CLAVE DE LOCALIDAD:\",clave,\"\\nCANTIDAD:\",cant,\"\\nPRECIO: $\",pre)  \r\n",
        "  recau=recau+pre\r\n",
        "  clave=int (input(\"Indique el número de la localidad que desea comprar\\n\"))\r\n",
        "  cant= int (input(\"¿Cuantos desea comprar?\\n\"))\r\n",
        "\r\n",
        "print(\"Usted compro\",ap1, \"boletos tipo 1\")\r\n",
        "print(\"Usted compro\",ap2, \"boletos tipo 2\")\r\n",
        "print(\"Usted compro\",ap3, \"boletos tipo 3\")\r\n",
        "print(\"Usted compro\",ap4, \"boletos tipo 4\")\r\n",
        "print(\"Usted compro\",ap5, \"boletos tipo 5\")\r\n",
        "print(\"Recaudacion del estado: $\",recau)"
      ],
      "execution_count": null,
      "outputs": []
    },
    {
      "cell_type": "code",
      "metadata": {
        "colab": {
          "base_uri": "https://localhost:8080/"
        },
        "id": "OHUjNGpOIGHj",
        "outputId": "413a8279-dd79-40ad-ce8b-bc18749d17db"
      },
      "source": [
        "# EJEMPLO 3.15\r\n",
        "\r\n",
        "cl=0\r\n",
        "cuenta=0\r\n",
        "print(\"TIPOS DE LLAMADAS\\nLOCAL=l   NACIONAL=n    INTERNACIONAL=i   SALIR=x   \")\r\n",
        "tipo= str (input(\"Ingrese el tipo de llamada a realizar\\n\"))\r\n",
        "dur= int (input(\"Indique la duracion de la llamada\\n\"))\r\n",
        "while ((tipo!=\"x\") and (dur!=-1)):\r\n",
        "  if (tipo==\"n\"):\r\n",
        "    if (dur>3):\r\n",
        "      costo=1.20+(dur-3)*0.48\r\n",
        "    else:\r\n",
        "      costo=1.20\r\n",
        "    \r\n",
        "  elif (tipo==\"l\"):\r\n",
        "    cl=cl+1\r\n",
        "    if (cl>50):\r\n",
        "      costo=.60\r\n",
        "    else:\r\n",
        "      costo= 0\r\n",
        "    \r\n",
        "  elif (tipo==\"i\"):\r\n",
        "    if (dur>3):\r\n",
        "      costo=7.59+(dur-3)*3.03\r\n",
        "    else:\r\n",
        "      costo=7.59\r\n",
        "\r\n",
        "  cuenta=cuenta+costo\r\n",
        "  tipo= str (input(\"Ingrese el tipo de llamada a realizar\\n\"))\r\n",
        "  dur= int (input(\"Indique la duracion de la llamada\\n\"))\r\n",
        "\r\n",
        "print(f\"El total a pagar es ${cuenta}\")"
      ],
      "execution_count": null,
      "outputs": [
        {
          "output_type": "stream",
          "text": [
            "TIPOS DE LLAMADAS\n",
            "LOCAL=l   NACIONAL=n    INTERNACIONAL=i   SALIR=x   \n",
            "Ingrese el tipo de llamada a realizar\n",
            "i\n",
            "Indique la duracion de la llamada\n",
            "7\n",
            "Ingrese el tipo de llamada a realizar\n",
            "n\n",
            "Indique la duracion de la llamada\n",
            "6\n",
            "Ingrese el tipo de llamada a realizar\n",
            "n\n",
            "Indique la duracion de la llamada\n",
            "12\n",
            "Ingrese el tipo de llamada a realizar\n",
            "l\n",
            "Indique la duracion de la llamada\n",
            "5\n",
            "Ingrese el tipo de llamada a realizar\n",
            "l\n",
            "Indique la duracion de la llamada\n",
            "15\n",
            "Ingrese el tipo de llamada a realizar\n",
            "n\n",
            "Indique la duracion de la llamada\n",
            "16\n",
            "Ingrese el tipo de llamada a realizar\n",
            "l\n",
            "Indique la duracion de la llamada\n",
            "7\n",
            "Ingrese el tipo de llamada a realizar\n",
            "l\n",
            "Indique la duracion de la llamada\n",
            "6\n",
            "Ingrese el tipo de llamada a realizar\n",
            "l\n",
            "Indique la duracion de la llamada\n",
            "4\n",
            "Ingrese el tipo de llamada a realizar\n",
            "i\n",
            "Indique la duracion de la llamada\n",
            "11\n",
            "Ingrese el tipo de llamada a realizar\n",
            "x\n",
            "Indique la duracion de la llamada\n",
            "-1\n",
            "El total a pagar es $67.14\n"
          ],
          "name": "stdout"
        }
      ]
    },
    {
      "cell_type": "code",
      "metadata": {
        "id": "Qgl96mAXI24X"
      },
      "source": [
        "# EJEMPLO 3.16\r\n",
        "\r\n",
        "tipo1=0\r\n",
        "tipo2=0\r\n",
        "tipo3=0\r\n",
        "tipo4=0\r\n",
        "tipo5=0\r\n",
        "mctipo2=0\r\n",
        "\r\n",
        "n= int (input(\"Ingrese el numero de años ha calcular\"))\r\n",
        "i=1\r\n",
        "for i in range (n):\r\n",
        "  j=1\r\n",
        "  totvin=0\r\n",
        "  for j in range (5):\r\n",
        "    v= float (input(f\"Cantidad de litros del vino {j+11} \"))\r\n",
        "    totvin=totvin+v\r\n",
        "    if (j==1):\r\n",
        "      tipo1=tipo1+v\r\n",
        "\r\n",
        "    elif (j==2):\r\n",
        "      tipo2=tipo2+v\r\n",
        "      if (v >mctipo2):\r\n",
        "        mctipo2=v\r\n",
        "        año=i\r\n",
        "        \r\n",
        "    elif (j==3):\r\n",
        "      tipo3=tipo3+v\r\n",
        "      if (v==0):\r\n",
        "        print(f\"En el año {i+1} no se produjo vino tipo 3 \")\r\n",
        "    \r\n",
        "    elif (j==4):\r\n",
        "      tipo4=tipo4+v\r\n",
        "    \r\n",
        "    elif (j==5):\r\n",
        "      tipo5=tipo5+v\r\n",
        "\r\n",
        "  j=j+1\r\n",
        "\r\n",
        "print(f\"Total tipo 1:{tipo1} \")\r\n",
        "print(f\"Total tipo 2:{tipo2} \")\r\n",
        "print(f\"Total tipo 3:{tipo3} \")\r\n",
        "print(f\"Total tipo 4:{tipo4} \")\r\n",
        "print(f\"Total tipo 5:{tipo5} \")\r\n",
        "print(f\"Año en que se produjo mayor cantidad de vino tipo 2: {año}\\n Litros: {mctipo2} L.\")"
      ],
      "execution_count": null,
      "outputs": []
    }
  ]
}