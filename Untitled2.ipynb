{
  "nbformat": 4,
  "nbformat_minor": 0,
  "metadata": {
    "colab": {
      "name": "Untitled2.ipynb",
      "provenance": [],
      "authorship_tag": "ABX9TyPKthJFdkaU52I4xx3Ekg8H",
      "include_colab_link": true
    },
    "kernelspec": {
      "name": "python3",
      "display_name": "Python 3"
    }
  },
  "cells": [
    {
      "cell_type": "markdown",
      "metadata": {
        "id": "view-in-github",
        "colab_type": "text"
      },
      "source": [
        "<a href=\"https://colab.research.google.com/github/Eiram1/cyp_2021/blob/main/Untitled2.ipynb\" target=\"_parent\"><img src=\"https://colab.research.google.com/assets/colab-badge.svg\" alt=\"Open In Colab\"/></a>"
      ]
    },
    {
      "cell_type": "code",
      "metadata": {
        "id": "EjWcldsVT7ES",
        "outputId": "e00db45a-d547-4426-fa8e-2e1d26de6b8b",
        "colab": {
          "base_uri": "https://localhost:8080/"
        }
      },
      "source": [
        "ESP = \" \"\r\n",
        "TES = \"\"\r\n",
        "NOM = \"\\u00BB\"\r\n",
        "for i in range(26):\r\n",
        "  if i % 2 == 0:\r\n",
        "    print(\"\\u294B \", end = \"\")\r\n",
        "  else:\r\n",
        "    print(\"\\u294A \", end = \"\")\r\n",
        "\r\n",
        "print(f\"\\n\\u294D{65*ESP}\",end=\"\\u294D\")\r\n",
        "print(f\"\\n\\u294D{65*ESP}\",end=\"\\u294D\")\r\n",
        "print(f\"\\n\\u294C{(3*ESP)+(7*NOM)+(4*ESP)+(7*NOM)+(4*ESP)+(8*NOM)+(9*ESP)+(NOM)+(8*ESP)+(NOM)+(9*ESP)+(NOM)+(3*ESP)}\",end=\"\\u294C\")\r\n",
        "print(f\"\\n\\u294D{(3*ESP)+(2*NOM)+(11*ESP)+(3*NOM)+(6*ESP)+(NOM)+(6*ESP)+(NOM)+(7*ESP)+(NOM)+(3*ESP)+NOM+(6*ESP)+(1*NOM)+(2*ESP)+(NOM)+(3*ESP)+(NOM)+(2*ESP)+(NOM)+(3*ESP)}\",end=\"\\u294D\")\r\n",
        "print(f\"\\n\\u294C{(3*ESP)+(2*NOM)+(11*ESP)+(3*NOM)+(6*ESP)+(NOM)+(6*ESP)+(NOM)+(6*ESP)+(NOM)+(5*ESP)+NOM+(5*ESP)+(NOM)+(4*ESP)+(NOM)+(4*ESP)+(NOM)+(3*ESP)}\",end=\"\\u294C\")\r\n",
        "print(f\"\\n\\u294D{(3*ESP)+(5*NOM)+(8*ESP)+(3*NOM)+(6*ESP)+(NOM)+(3*ESP)+(NOM)+(8*ESP)+NOM+(ESP)+(NOM)+(ESP)+(NOM)+(ESP)+(NOM)+(ESP)+(NOM)+(4*ESP)+(NOM)+(9*ESP)+(NOM)+(3*ESP)}\",end=\"\\u294D\")\r\n",
        "print(f\"\\n\\u294C{(3*ESP)+(2*NOM)+(11*ESP)+(3*NOM)+(6*ESP)+(NOM)+(6*ESP)+(NOM)+(5*ESP)+NOM+(7*ESP)+(NOM)+(4*ESP)+(NOM)+(9*ESP)+(NOM)+(3*ESP)}\",end=\"\\u294C\")\r\n",
        "print(f\"\\n\\u294D{(3*ESP)+(2*NOM)+(11*ESP)+(3*NOM)+(6*ESP)+(NOM)+(6*ESP)+(NOM)+(5*ESP)+NOM+(7*ESP)+(NOM)+(4*ESP)+(NOM)+(9*ESP)+(NOM)+(3*ESP)}\",end=\"\\u294D\")\r\n",
        "print(f\"\\n\\u294C{(3*ESP)+(7*NOM)+(4*ESP)+(7*NOM)+(4*ESP)+(NOM)+(6*ESP)+(NOM)+(5*ESP)+NOM+(7*ESP)+(NOM)+(4*ESP)+(NOM)+(9*ESP)+(NOM)+(3*ESP)}\",end=\"\\u294C\")\r\n",
        "print(f\"\\n\\u294D{65*ESP}\",end=\"\\u294D\")\r\n",
        "print(f\"\\n\\u294D{65*ESP}\\u294D\",end=\"\\n\")\r\n",
        "\r\n",
        "for i in range(26):\r\n",
        "  if i % 2 == 0:\r\n",
        "    print(\"\\u294B \", end = \"\")\r\n",
        "  else:\r\n",
        "    print(\"\\u294A \", end = \"\")"
      ],
      "execution_count": 714,
      "outputs": [
        {
          "output_type": "stream",
          "text": [
            "⥋ ⥊ ⥋ ⥊ ⥋ ⥊ ⥋ ⥊ ⥋ ⥊ ⥋ ⥊ ⥋ ⥊ ⥋ ⥊ ⥋ ⥊ ⥋ ⥊ ⥋ ⥊ ⥋ ⥊ ⥋ ⥊ \n",
            "⥍                                                                 ⥍\n",
            "⥍                                                                 ⥍\n",
            "⥌   »»»»»»»    »»»»»»»    »»»»»»»»         »        »         »   ⥌\n",
            "⥍   »»           »»»      »      »       »   »      »  »   »  »   ⥍\n",
            "⥌   »»           »»»      »      »      »     »     »    »    »   ⥌\n",
            "⥍   »»»»»        »»»      »   »        » » » » »    »         »   ⥍\n",
            "⥌   »»           »»»      »      »     »       »    »         »   ⥌\n",
            "⥍   »»           »»»      »      »     »       »    »         »   ⥍\n",
            "⥌   »»»»»»»    »»»»»»»    »      »     »       »    »         »   ⥌\n",
            "⥍                                                                 ⥍\n",
            "⥍                                                                 ⥍\n",
            "⥋ ⥊ ⥋ ⥊ ⥋ ⥊ ⥋ ⥊ ⥋ ⥊ ⥋ ⥊ ⥋ ⥊ ⥋ ⥊ ⥋ ⥊ ⥋ ⥊ ⥋ ⥊ ⥋ ⥊ ⥋ ⥊ "
          ],
          "name": "stdout"
        }
      ]
    }
  ]
}