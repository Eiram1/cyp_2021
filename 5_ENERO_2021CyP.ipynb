{
  "nbformat": 4,
  "nbformat_minor": 0,
  "metadata": {
    "colab": {
      "name": "5_ENERO_2021CyP.ipynb",
      "provenance": [],
      "authorship_tag": "ABX9TyNTj+3PUZChH+CKUOxqoxYp",
      "include_colab_link": true
    },
    "kernelspec": {
      "name": "python3",
      "display_name": "Python 3"
    }
  },
  "cells": [
    {
      "cell_type": "markdown",
      "metadata": {
        "id": "view-in-github",
        "colab_type": "text"
      },
      "source": [
        "<a href=\"https://colab.research.google.com/github/Eiram1/cyp_2021/blob/main/5_ENERO_2021CyP.ipynb\" target=\"_parent\"><img src=\"https://colab.research.google.com/assets/colab-badge.svg\" alt=\"Open In Colab\"/></a>"
      ]
    },
    {
      "cell_type": "code",
      "metadata": {
        "colab": {
          "base_uri": "https://localhost:8080/"
        },
        "id": "-7fyIoYFjLrR",
        "outputId": "5034fc22-218d-4f5d-ebe9-ccab8f840cd2"
      },
      "source": [
        "sueldos = [0.0 for x in range(7)]\r\n",
        "print(sueldos)\r\n",
        "sueldos[0] = 12.3\r\n",
        "sueldos[1] = 32.3\r\n",
        "sueldos[2] = 43.3\r\n",
        "sueldos[3] = 11.3\r\n",
        "sueldos[4] = 77.3\r\n",
        "sueldos[5] = 88.3\r\n",
        "sueldos[6] = 99.3\r\n",
        "print(sueldos) \r\n",
        "\r\n",
        "for i in range(7):\r\n",
        "  print(f\"El trabajador {int(i)+1} gana ${i + 1}\")\r\n"
      ],
      "execution_count": 4,
      "outputs": [
        {
          "output_type": "stream",
          "text": [
            "[0.0, 0.0, 0.0, 0.0, 0.0, 0.0, 0.0]\n",
            "[12.3, 32.3, 43.3, 11.3, 77.3, 88.3, 99.3]\n",
            "El trabajador 1 gana $ 1\n",
            "El trabajador 2 gana $ 2\n",
            "El trabajador 3 gana $ 3\n",
            "El trabajador 4 gana $ 4\n",
            "El trabajador 5 gana $ 5\n",
            "El trabajador 6 gana $ 6\n",
            "El trabajador 7 gana $ 7\n"
          ],
          "name": "stdout"
        }
      ]
    },
    {
      "cell_type": "code",
      "metadata": {
        "colab": {
          "base_uri": "https://localhost:8080/"
        },
        "id": "pP9KYquMo379",
        "outputId": "a08a3f74-e200-49b2-a42b-dae08e5453be"
      },
      "source": [
        "# PROBLEMA 4.1\r\n",
        "MAXIMO  = 7\r\n",
        "sueldos = [0.0 for x in range(MAXIMO)]\r\n",
        "SUMA = 0.0\r\n",
        "PROM = 0.0\r\n",
        "\r\n",
        "for i in range(MAXIMO):\r\n",
        "  sueldos[i] = float (input(\"Dame el sueldo: \"))\r\n",
        "\r\n",
        "for i in range(MAXIMO):\r\n",
        "  print(f\"Trabajador {i + 1}, gana {sueldos[i]}\") \r\n",
        "\r\n",
        "for i in range(MAXIMO):\r\n",
        "  SUMA = SUMA + sueldos[i]\r\n",
        "PROM = SUMA / MAXIMO\r\n",
        "print(f\"El promedio de sueldo es {PROM}\")\r\n",
        "\r\n",
        "for i in range(MAXIMO):\r\n",
        "  if sueldos[i] > PROM:\r\n",
        "    print(f\"El trabajador {i + 1} tiene un sueldo mayor al promedio\")"
      ],
      "execution_count": 15,
      "outputs": [
        {
          "output_type": "stream",
          "text": [
            "Dame el sueldo: 4\n",
            "Dame el sueldo: 5\n",
            "Dame el sueldo: 4\n",
            "Dame el sueldo: 5\n",
            "Dame el sueldo: 4\n",
            "Dame el sueldo: 5\n",
            "Dame el sueldo: 4\n",
            "Trabajador 1, gana 4.0\n",
            "Trabajador 2, gana 5.0\n",
            "Trabajador 3, gana 4.0\n",
            "Trabajador 4, gana 5.0\n",
            "Trabajador 5, gana 4.0\n",
            "Trabajador 6, gana 5.0\n",
            "Trabajador 7, gana 4.0\n",
            "El promedio de sueldo es 4.428571428571429\n",
            "El trabajador 2 tiene un sueldo mayor al promedio\n",
            "El trabajador 4 tiene un sueldo mayor al promedio\n",
            "El trabajador 6 tiene un sueldo mayor al promedio\n"
          ],
          "name": "stdout"
        }
      ]
    },
    {
      "cell_type": "code",
      "metadata": {
        "colab": {
          "base_uri": "https://localhost:8080/"
        },
        "id": "nspGG-7DssA8",
        "outputId": "377dfa31-25fa-4322-cd63-92009ac14ecf"
      },
      "source": [
        "# Hacer un programa q solicite 5 valores enteros positivos \r\n",
        "# 1. Cual es el mayor\r\n",
        "# 2. Cual es el menor\r\n",
        "# 3. Cual es el promedio\r\n",
        "VAL = 5\r\n",
        "VALORES = [0.0 for x in range(VAL)]\r\n",
        "PROM = 0\r\n",
        "SUMA = 0\r\n",
        "MAY = 0\r\n",
        "MEN = 0\r\n",
        "\r\n",
        "for i in range(VAL):\r\n",
        "  VALORES[i] = int (input(\"Dame un número: \"))\r\n",
        "\r\n",
        "for i in range(VAL):\r\n",
        "  SUMA = SUMA + VALORES[i]\r\n",
        "PROM = SUMA / MAXIMO\r\n",
        "\r\n",
        "for i in range(VAL):\r\n",
        "  if VALORES[i] > VAL:\r\n",
        "    MAY = VALORES[i]\r\n",
        "  elif VALORES[i] < VAL:\r\n",
        "    MEN = VALORES[i]    \r\n",
        "\r\n",
        "print(f\"El número mayor es {MAY} \")\r\n",
        "print(f\"El promedio es {PROM}\")\r\n",
        "print(f\"El número mayor es {MEN}\")"
      ],
      "execution_count": 23,
      "outputs": [
        {
          "output_type": "stream",
          "text": [
            "Dame un número: 4\n",
            "Dame un número: 5\n",
            "Dame un número: 3\n",
            "Dame un número: 7\n",
            "Dame un número: 2\n",
            "El número mayor es 7 \n",
            "El promedio es 3.0\n",
            "El número mayor es 2\n"
          ],
          "name": "stdout"
        }
      ]
    },
    {
      "cell_type": "code",
      "metadata": {
        "colab": {
          "base_uri": "https://localhost:8080/"
        },
        "id": "mX9QEm91wMhU",
        "outputId": "3cab0c7e-9513-45d5-e593-83df9184ee05"
      },
      "source": [
        "# PROBLEMA 4.1\r\n",
        "N = int (input(\"Ingrese el número de elementos del arreglo: \"))\r\n",
        "\r\n",
        "if 1 <= N and N <= 500:\r\n",
        "  VEC = [0 for x in range(N)] \r\n",
        "  print(VEC)\r\n",
        "  for i in range(N):\r\n",
        "    VEC [i] = int (input(\"Ingrese valor\" + str ( i + 1) + \": \"))\r\n",
        "  print(\"Lista de números sin repeticiones: \")\r\n",
        "  i = 0\r\n",
        "  while i < N:\r\n",
        "    print(VEC[i])\r\n",
        "    REPET = VEC[i]\r\n",
        "    while i < N and REPET == VEC[i]:\r\n",
        "      #print(\"Incrementa i\", i)\r\n",
        "      i = i + 1\r\n",
        "    i = i + 1\r\n",
        "else:\r\n",
        "  print(\"El número de arreglos en incorrecto\")\r\n"
      ],
      "execution_count": 55,
      "outputs": [
        {
          "output_type": "stream",
          "text": [
            "Ingrese el número de elementos del arreglo: 10\n",
            "[0, 0, 0, 0, 0, 0, 0, 0, 0, 0]\n",
            "Ingrese valor1: 2\n",
            "Ingrese valor2: 3\n",
            "Ingrese valor3: 3\n",
            "Ingrese valor4: 3\n",
            "Ingrese valor5: 10\n",
            "Ingrese valor6: 20\n",
            "Ingrese valor7: 20\n",
            "Ingrese valor8: 40\n",
            "Ingrese valor9: 51\n",
            "Ingrese valor10: 51\n",
            "Lista de números sin repeticiones: \n",
            "2\n",
            "3\n",
            "20\n",
            "51\n"
          ],
          "name": "stdout"
        }
      ]
    }
  ]
}