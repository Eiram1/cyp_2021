{
  "nbformat": 4,
  "nbformat_minor": 0,
  "metadata": {
    "colab": {
      "name": "28_01_2021_CyP.ipynb",
      "provenance": [],
      "authorship_tag": "ABX9TyOGHFBmjcPV4N8vdiEjOQZT",
      "include_colab_link": true
    },
    "kernelspec": {
      "name": "python3",
      "display_name": "Python 3"
    }
  },
  "cells": [
    {
      "cell_type": "markdown",
      "metadata": {
        "id": "view-in-github",
        "colab_type": "text"
      },
      "source": [
        "<a href=\"https://colab.research.google.com/github/Eiram1/cyp_2021/blob/main/28_01_2021_CyP.ipynb\" target=\"_parent\"><img src=\"https://colab.research.google.com/assets/colab-badge.svg\" alt=\"Open In Colab\"/></a>"
      ]
    },
    {
      "cell_type": "markdown",
      "metadata": {
        "id": "LZQjROW9BlKO"
      },
      "source": [
        "# Tuplas\r\n",
        "- Tipo de dato lineal , estuctura de datos.\r\n",
        "- No  mutable.\r\n",
        "- Puede contener de 0 a n elementos.\r\n",
        "- Se declara con '( ' y ' )' \r\n",
        "- No puedes agregar, ni eliminar elementos. \r\n",
        "- Pueden ser anidadas.\r\n",
        "- Los argumetos a una función son enviadas como tuplas.\r\n"
      ]
    },
    {
      "cell_type": "code",
      "metadata": {
        "colab": {
          "base_uri": "https://localhost:8080/"
        },
        "id": "DhUMv_pBCUyn",
        "outputId": "11e90bbd-ddef-4cf0-fb53-4eab3cc48495"
      },
      "source": [
        "frutas = ('platano', 'pera', 'manzana', 'kiwi')\r\n",
        "print(frutas)\r\n",
        "print(frutas[1:3:])\r\n",
        "print(frutas.count('kiwi'))\r\n",
        "\r\n",
        "# Las tuplas no mutan ejemplo\r\n",
        "# frutas[4] = \"guayaba\"\r\n",
        " \r\n",
        "\r\n",
        "#Para que fregados se usan?\r\n",
        "conexion = ( '132.248.12.12', 3306 , 'cyp_bd' , 'user_test' , 'diego12g' )\r\n",
        "print(f\"usuario: {conexion[3]} y password: {conexion[4]} \")"
      ],
      "execution_count": 21,
      "outputs": [
        {
          "output_type": "stream",
          "text": [
            "('platano', 'pera', 'manzana', 'kiwi')\n",
            "('pera', 'manzana')\n",
            "1\n",
            "usuario: user_test y password: diego12g \n"
          ],
          "name": "stdout"
        }
      ]
    },
    {
      "cell_type": "code",
      "metadata": {
        "colab": {
          "base_uri": "https://localhost:8080/"
        },
        "id": "o3CPALU-DP0c",
        "outputId": "1a8ef67a-090c-4d6b-80ad-d4bbca804f37"
      },
      "source": [
        "print(dir(frutas))"
      ],
      "execution_count": 11,
      "outputs": [
        {
          "output_type": "stream",
          "text": [
            "['__add__', '__class__', '__contains__', '__delattr__', '__dir__', '__doc__', '__eq__', '__format__', '__ge__', '__getattribute__', '__getitem__', '__getnewargs__', '__gt__', '__hash__', '__init__', '__init_subclass__', '__iter__', '__le__', '__len__', '__lt__', '__mul__', '__ne__', '__new__', '__reduce__', '__reduce_ex__', '__repr__', '__rmul__', '__setattr__', '__sizeof__', '__str__', '__subclasshook__', 'count', 'index']\n"
          ],
          "name": "stdout"
        }
      ]
    },
    {
      "cell_type": "markdown",
      "metadata": {
        "id": "ztGH_2RJFv4k"
      },
      "source": [
        "# Diccionarios \r\n",
        "- Estructra de datos semi lineal.\r\n",
        "- Formada por pares, llave, valor.\r\n",
        "- Equivalente al tipo de dato JSON, de javaScript.\r\n",
        "- Utilizando organización por función de dispersión.\r\n",
        "- Se declaran con los elementos. '{'y'}'\r\n",
        "- El selector usa valores de tipo string (llave).\r\n",
        "- No se puede seleccionar por offset [1]\r\n",
        "- Son mutables "
      ]
    },
    {
      "cell_type": "code",
      "metadata": {
        "colab": {
          "base_uri": "https://localhost:8080/"
        },
        "id": "SCNN2JJHdV9x",
        "outputId": "c87ab67e-b353-4244-aa8a-9c6ef6c69665"
      },
      "source": [
        "alumno={'nombre': 'Juan Perez'}\r\n",
        "print(alumno)\r\n",
        "print(alumno['nombre'])"
      ],
      "execution_count": 41,
      "outputs": [
        {
          "output_type": "stream",
          "text": [
            "{'nombre': 'Juan Perez'}\n",
            "Juan Perez\n"
          ],
          "name": "stdout"
        }
      ]
    },
    {
      "cell_type": "code",
      "metadata": {
        "colab": {
          "base_uri": "https://localhost:8080/"
        },
        "id": "f2BKvZ3QdZ_R",
        "outputId": "6a8fe5d0-99aa-4de9-b077-726b5ba48daf"
      },
      "source": [
        "alumno = {'nombre':'Juan Pérez',\r\n",
        "          'edad':18,\r\n",
        "          'altura':1.71,\r\n",
        "          'estatus':'Aprobado',\r\n",
        "          'numeros':[555645902, 55326372]}\r\n",
        "print(alumno)\r\n",
        "print( alumno ['numeros'])\r\n",
        "print(f\"Clacular del alumno {alumno ['numeros'][0]}\")\r\n",
        "# Segundo numero\r\n",
        "print(\"Numero del alumno:\",alumno['numeros'][1])"
      ],
      "execution_count": 40,
      "outputs": [
        {
          "output_type": "stream",
          "text": [
            "{'nombre': 'Juan Pérez', 'edad': 18, 'altura': 1.71, 'estatus': 'Aprobado', 'numeros': [555645902, 55326372]}\n",
            "[555645902, 55326372]\n",
            "Clacular del alumno 555645902\n",
            "Numero del alumno: 55326372\n"
          ],
          "name": "stdout"
        }
      ]
    },
    {
      "cell_type": "code",
      "metadata": {
        "colab": {
          "base_uri": "https://localhost:8080/"
        },
        "id": "WQmuwm6gddWp",
        "outputId": "024bfee4-faca-4c2f-8654-998fb830ced3"
      },
      "source": [
        "materia = [\"Algebra\", \"Computadoras y Programacion\", \"Calculo Diferencial e Integral\", \"Introduccion a la Ingenieria\", \"Geometria Analitica\"]\r\n",
        "alumno = {\"ID\" : (123456789), \r\n",
        "          \"Nombre\" : \"Yael\", \r\n",
        "          \"Apellido\" : \"Castillo\", \r\n",
        "          \"Edad\" : 20, \r\n",
        "          \"Escuela\" : \"FES Aragon\",\r\n",
        "          \"Materia\" : materia}\r\n",
        "for i in alumno:\r\n",
        "    print(f\"Clave: {i} - Valor: {alumno[i]}\")"
      ],
      "execution_count": 42,
      "outputs": [
        {
          "output_type": "stream",
          "text": [
            "Clave: ID - Valor: 123456789\n",
            "Clave: Nombre - Valor: Yael\n",
            "Clave: Apellido - Valor: Castillo\n",
            "Clave: Edad - Valor: 20\n",
            "Clave: Escuela - Valor: FES Aragon\n",
            "Clave: Materia - Valor: ['Algebra', 'Computadoras y Programacion', 'Calculo Diferencial e Integral', 'Introduccion a la Ingenieria', 'Geometria Analitica']\n"
          ],
          "name": "stdout"
        }
      ]
    },
    {
      "cell_type": "code",
      "metadata": {
        "colab": {
          "base_uri": "https://localhost:8080/"
        },
        "id": "IyXd7QEdJoCr",
        "outputId": "0beaefb1-b078-4486-ffb8-a6486fd11b7a"
      },
      "source": [
        "alumno = {    'nombre'  : 'Diego López' , \r\n",
        "          'edad' : 18,\r\n",
        "          'Matricula': 312193,\r\n",
        "          'calificaciones' : {'Mate': 8 , 'ciencias': 9, 'ingles': 8 },\r\n",
        "          'aprovado' : True,\r\n",
        "          'direccion': {\r\n",
        "                        'calle':'Rancho seco',\r\n",
        "                        'numero': 's/n',\r\n",
        "                        'colonia': 'impulsora popular avicola',\r\n",
        "                        'municipio': 'Mi-nezota',\r\n",
        "                        'estado':{\r\n",
        "                                   'clave':15,\r\n",
        "                                   'nombre_clave':'MEX',\r\n",
        "                                   'nombre':\"Estado de México\"\r\n",
        "                                  }\r\n",
        "                       }\r\n",
        "          }\r\n",
        "print(alumno)\r\n",
        "print(alumno['nombre'])\r\n",
        "print(alumno['calificaciones'])\r\n",
        "\r\n",
        "# 9 calificacion de ciencias??\r\n",
        "print(alumno['calificaciones']['ciencias'])\r\n",
        "# nombre, todo en mayuscula\r\n",
        "print(alumno['nombre'].upper())\r\n",
        "print(\"---------------------------------\")\r\n",
        "print(alumno)\r\n",
        "alumno['seguro']= True\r\n",
        "print(alumno)\r\n",
        "print(\"---------------------------------\")\r\n",
        "alumno['direccion']['cp']=57170\r\n",
        "print(alumno)"
      ],
      "execution_count": 43,
      "outputs": [
        {
          "output_type": "stream",
          "text": [
            "{'nombre': 'Diego López', 'edad': 18, 'Matricula': 312193, 'calificaciones': {'Mate': 8, 'ciencias': 9, 'ingles': 8}, 'aprovado': True, 'direccion': {'calle': 'Rancho seco', 'numero': 's/n', 'colonia': 'impulsora popular avicola', 'municipio': 'Mi-nezota', 'estado': {'clave': 15, 'nombre_clave': 'MEX', 'nombre': 'Estado de México'}}}\n",
            "Diego López\n",
            "{'Mate': 8, 'ciencias': 9, 'ingles': 8}\n",
            "9\n",
            "DIEGO LÓPEZ\n",
            "---------------------------------\n",
            "{'nombre': 'Diego López', 'edad': 18, 'Matricula': 312193, 'calificaciones': {'Mate': 8, 'ciencias': 9, 'ingles': 8}, 'aprovado': True, 'direccion': {'calle': 'Rancho seco', 'numero': 's/n', 'colonia': 'impulsora popular avicola', 'municipio': 'Mi-nezota', 'estado': {'clave': 15, 'nombre_clave': 'MEX', 'nombre': 'Estado de México'}}}\n",
            "{'nombre': 'Diego López', 'edad': 18, 'Matricula': 312193, 'calificaciones': {'Mate': 8, 'ciencias': 9, 'ingles': 8}, 'aprovado': True, 'direccion': {'calle': 'Rancho seco', 'numero': 's/n', 'colonia': 'impulsora popular avicola', 'municipio': 'Mi-nezota', 'estado': {'clave': 15, 'nombre_clave': 'MEX', 'nombre': 'Estado de México'}}, 'seguro': True}\n",
            "---------------------------------\n",
            "{'nombre': 'Diego López', 'edad': 18, 'Matricula': 312193, 'calificaciones': {'Mate': 8, 'ciencias': 9, 'ingles': 8}, 'aprovado': True, 'direccion': {'calle': 'Rancho seco', 'numero': 's/n', 'colonia': 'impulsora popular avicola', 'municipio': 'Mi-nezota', 'estado': {'clave': 15, 'nombre_clave': 'MEX', 'nombre': 'Estado de México'}, 'cp': 57170}, 'seguro': True}\n"
          ],
          "name": "stdout"
        }
      ]
    },
    {
      "cell_type": "code",
      "metadata": {
        "id": "q4DAJc5DVDzB"
      },
      "source": [
        "funciones = dir(dict)\r\n",
        "for funcion in funciones:\r\n",
        "  print(funciones)"
      ],
      "execution_count": null,
      "outputs": []
    },
    {
      "cell_type": "markdown",
      "metadata": {
        "id": "olCRFuLFVEOO"
      },
      "source": [
        "# Manipulacion de los pares llave valor.\r\n",
        "para ello se emplean los métodos:\r\n",
        "- Keys() te regresa una tupla con los estrings llave del diccionario.\r\n",
        "- Values() te regresa solo los valores\r\n",
        "- Items() te regresa los pares "
      ]
    },
    {
      "cell_type": "code",
      "metadata": {
        "colab": {
          "base_uri": "https://localhost:8080/"
        },
        "id": "_WLVpv8Mdy9W",
        "outputId": "78f21bee-7e06-4154-bd7f-a464e852c9fc"
      },
      "source": [
        "print(alumno)\r\n",
        "llaves = alumno.keys()\r\n",
        "print(llaves)\r\n",
        "for elem in llaves:\r\n",
        "  print(elem)\r\n",
        "  print(alumno[elem])\r\n",
        "#print(help(llaves))\r\n",
        "\r\n",
        "#manipular los valores\r\n",
        "\r\n",
        "valores = alumno.values()\r\n",
        "print(valores)\r\n",
        "print(\"-.-.-.-.-.-.-.-.-.-.-.-.-..-.-.\")\r\n",
        "for val in valores:\r\n",
        "  print(val)\r\n",
        "\r\n",
        "#manipular pares\r\n",
        "\r\n",
        "pares = alumno.items()\r\n",
        "print(pares)\r\n",
        "for par in pares:\r\n",
        "  print(par)"
      ],
      "execution_count": 44,
      "outputs": [
        {
          "output_type": "stream",
          "text": [
            "{'nombre': 'Diego López', 'edad': 18, 'Matricula': 312193, 'calificaciones': {'Mate': 8, 'ciencias': 9, 'ingles': 8}, 'aprovado': True, 'direccion': {'calle': 'Rancho seco', 'numero': 's/n', 'colonia': 'impulsora popular avicola', 'municipio': 'Mi-nezota', 'estado': {'clave': 15, 'nombre_clave': 'MEX', 'nombre': 'Estado de México'}, 'cp': 57170}, 'seguro': True}\n",
            "dict_keys(['nombre', 'edad', 'Matricula', 'calificaciones', 'aprovado', 'direccion', 'seguro'])\n",
            "nombre\n",
            "Diego López\n",
            "edad\n",
            "18\n",
            "Matricula\n",
            "312193\n",
            "calificaciones\n",
            "{'Mate': 8, 'ciencias': 9, 'ingles': 8}\n",
            "aprovado\n",
            "True\n",
            "direccion\n",
            "{'calle': 'Rancho seco', 'numero': 's/n', 'colonia': 'impulsora popular avicola', 'municipio': 'Mi-nezota', 'estado': {'clave': 15, 'nombre_clave': 'MEX', 'nombre': 'Estado de México'}, 'cp': 57170}\n",
            "seguro\n",
            "True\n",
            "dict_values(['Diego López', 18, 312193, {'Mate': 8, 'ciencias': 9, 'ingles': 8}, True, {'calle': 'Rancho seco', 'numero': 's/n', 'colonia': 'impulsora popular avicola', 'municipio': 'Mi-nezota', 'estado': {'clave': 15, 'nombre_clave': 'MEX', 'nombre': 'Estado de México'}, 'cp': 57170}, True])\n",
            "-.-.-.-.-.-.-.-.-.-.-.-.-..-.-.\n",
            "Diego López\n",
            "18\n",
            "312193\n",
            "{'Mate': 8, 'ciencias': 9, 'ingles': 8}\n",
            "True\n",
            "{'calle': 'Rancho seco', 'numero': 's/n', 'colonia': 'impulsora popular avicola', 'municipio': 'Mi-nezota', 'estado': {'clave': 15, 'nombre_clave': 'MEX', 'nombre': 'Estado de México'}, 'cp': 57170}\n",
            "True\n",
            "dict_items([('nombre', 'Diego López'), ('edad', 18), ('Matricula', 312193), ('calificaciones', {'Mate': 8, 'ciencias': 9, 'ingles': 8}), ('aprovado', True), ('direccion', {'calle': 'Rancho seco', 'numero': 's/n', 'colonia': 'impulsora popular avicola', 'municipio': 'Mi-nezota', 'estado': {'clave': 15, 'nombre_clave': 'MEX', 'nombre': 'Estado de México'}, 'cp': 57170}), ('seguro', True)])\n",
            "('nombre', 'Diego López')\n",
            "('edad', 18)\n",
            "('Matricula', 312193)\n",
            "('calificaciones', {'Mate': 8, 'ciencias': 9, 'ingles': 8})\n",
            "('aprovado', True)\n",
            "('direccion', {'calle': 'Rancho seco', 'numero': 's/n', 'colonia': 'impulsora popular avicola', 'municipio': 'Mi-nezota', 'estado': {'clave': 15, 'nombre_clave': 'MEX', 'nombre': 'Estado de México'}, 'cp': 57170})\n",
            "('seguro', True)\n"
          ],
          "name": "stdout"
        }
      ]
    }
  ]
}