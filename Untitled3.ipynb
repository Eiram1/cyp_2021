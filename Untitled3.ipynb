{
  "nbformat": 4,
  "nbformat_minor": 0,
  "metadata": {
    "colab": {
      "name": "Untitled3.ipynb",
      "provenance": [],
      "authorship_tag": "ABX9TyMbd6OsJOK9oO2jCgCPc7OF",
      "include_colab_link": true
    },
    "kernelspec": {
      "name": "python3",
      "display_name": "Python 3"
    }
  },
  "cells": [
    {
      "cell_type": "markdown",
      "metadata": {
        "id": "view-in-github",
        "colab_type": "text"
      },
      "source": [
        "<a href=\"https://colab.research.google.com/github/Eiram1/cyp_2021/blob/main/Untitled3.ipynb\" target=\"_parent\"><img src=\"https://colab.research.google.com/assets/colab-badge.svg\" alt=\"Open In Colab\"/></a>"
      ]
    },
    {
      "cell_type": "code",
      "metadata": {
        "colab": {
          "base_uri": "https://localhost:8080/"
        },
        "id": "7LHxDSEwSFWM",
        "outputId": "820824c6-ebce-4cc3-cc3e-6e603ec62edb"
      },
      "source": [
        " edad = 15\n",
        " estatura = 1.77\n",
        " a = 10\n",
        " b = 3\n",
        "\n",
        " c = 2 ** b + 8\n",
        " print ( c )\n",
        "\n",
        " e = estatura * 2\n",
        " print ( e )\n",
        "\n",
        " f = a / b   # en python se hace el cálculo exacto\n",
        " print ( f  )\n",
        "#también podemos forzar eñ cálculo en enteros \n",
        "\n",
        "g = a // b\n",
        "\n",
        "print ( \"g =\" ,g )\n",
        "\n",
        "h = a % b\n",
        "print (\"h = \",h)\n",
        "\n",
        "num = 10\n",
        "print(\"es par num ? \", (num % 2) == 0 )\n"
      ],
      "execution_count": 20,
      "outputs": [
        {
          "output_type": "stream",
          "text": [
            "16\n",
            "3.54\n",
            "3.3333333333333335\n",
            "g = 3\n",
            "h =  1\n",
            "es par num ?  True\n"
          ],
          "name": "stdout"
        }
      ]
    },
    {
      "cell_type": "code",
      "metadata": {
        "colab": {
          "base_uri": "https://localhost:8080/"
        },
        "id": "35D6-BDBW5EY",
        "outputId": "110e3554-37f6-41b6-a2b2-d02b3fa65239"
      },
      "source": [
        "ecuacion = 9 + 7 * 8 - 36 / 5 \n",
        "print(ecuacion)\n",
        "ecuacion =0\n",
        "ecuacion = (9 + 7) * 8 - 36 / 5 \n",
        "print(ecuacion)\n",
        "ecuacion = 9 + 7 * (8 - 36) / 5 \n",
        "print(ecuacion)"
      ],
      "execution_count": 27,
      "outputs": [
        {
          "output_type": "stream",
          "text": [
            "57.8\n",
            "120.8\n",
            "-30.200000000000003\n"
          ],
          "name": "stdout"
        }
      ]
    },
    {
      "cell_type": "code",
      "metadata": {
        "colab": {
          "base_uri": "https://localhost:8080/"
        },
        "id": "89WJIccAeeAh",
        "outputId": "21c0a521-aa16-4706-963f-fb0c15c9916d"
      },
      "source": [
        "# OPERADORES LÓGICOS \n",
        "x = 12\n",
        "y = 8\n",
        "\n",
        "valor = (x == y) #Son iguales False\n",
        "print(valor)\n",
        "\n",
        "valor = (x != y)  #son diferentes True\n",
        "print(valor)\n",
        "\n",
        "valor = (x < y)   # x es menor que y  ??  False\n",
        "print(valor)\n",
        "\n",
        "valor = (x > y)  # x es mayor que y ??   True\n",
        "print(valor)\n",
        "\n",
        "valor = (x <= y)  #x es menor o igual que y ??  False\n",
        "print(valor) \n",
        "\n",
        "valor = (x >= y)  #x es mayor o igual que y ?? True\n",
        "print(valor)\n"
      ],
      "execution_count": 40,
      "outputs": [
        {
          "output_type": "stream",
          "text": [
            "False\n",
            "True\n",
            "False\n",
            "True\n",
            "False\n",
            "True\n"
          ],
          "name": "stdout"
        }
      ]
    },
    {
      "cell_type": "code",
      "metadata": {
        "colab": {
          "base_uri": "https://localhost:8080/"
        },
        "id": "2fZFBRRHfuAP",
        "outputId": "16ae4ab1-4afb-4a08-f615-aac21d6fefef"
      },
      "source": [
        "costo_cheetos = 9.0\n",
        "tienda_abieta = False\n",
        "money_en_bolsa = 10.0\n",
        "\n",
        "se_compra = ( costo_cheetos < money_en_bolsa ) and (tienda_abieta==True)\n",
        "print(se_compra) "
      ],
      "execution_count": 41,
      "outputs": [
        {
          "output_type": "stream",
          "text": [
            "False\n"
          ],
          "name": "stdout"
        }
      ]
    }
  ]
}