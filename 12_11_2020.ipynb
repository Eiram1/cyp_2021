{
  "nbformat": 4,
  "nbformat_minor": 0,
  "metadata": {
    "colab": {
      "name": "12/11/2020.ipynb",
      "provenance": [],
      "authorship_tag": "ABX9TyOgUxlbkhe993Y7TQfZ52Ci",
      "include_colab_link": true
    },
    "kernelspec": {
      "name": "python3",
      "display_name": "Python 3"
    }
  },
  "cells": [
    {
      "cell_type": "markdown",
      "metadata": {
        "id": "view-in-github",
        "colab_type": "text"
      },
      "source": [
        "<a href=\"https://colab.research.google.com/github/Eiram1/cyp_2021/blob/main/12_11_2020.ipynb\" target=\"_parent\"><img src=\"https://colab.research.google.com/assets/colab-badge.svg\" alt=\"Open In Colab\"/></a>"
      ]
    },
    {
      "cell_type": "code",
      "metadata": {
        "id": "csE3UNNdcmpI"
      },
      "source": [
        "numero=int (input(\"Dame un numero \"))\n",
        "if numero >0:\n",
        "  print(\"El número es positivo\")\n",
        "\n",
        "print (\"Fin del programa\")\n"
      ],
      "execution_count": null,
      "outputs": []
    },
    {
      "cell_type": "code",
      "metadata": {
        "id": "4Rgygls4frF5"
      },
      "source": [
        "numero= int(input (\"Ingresa un numero \"))\n",
        "if numero >0:\n",
        "  print (\"El numero es positivo\")\n",
        "elif numero==0:\n",
        "  print (\"El numero es cero\")\n",
        "\n",
        "else:\n",
        "  print(\"El numero es negativo\")\n",
        "\n",
        "print (\"Fin del programa\")"
      ],
      "execution_count": null,
      "outputs": []
    },
    {
      "cell_type": "code",
      "metadata": {
        "id": "4Z-UkAP0pcKw"
      },
      "source": [
        "numero= int(input (\"Ingresa un numero \"))\n",
        "if numero >0:\n",
        "  print (\"El numero es positivo\")\n",
        "else:\n",
        "  print(\"El numero es negativo\")\n",
        "\n",
        "print (\"Fin del programa\")"
      ],
      "execution_count": null,
      "outputs": []
    }
  ]
}