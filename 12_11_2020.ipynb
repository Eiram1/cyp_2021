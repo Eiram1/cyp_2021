{
  "nbformat": 4,
  "nbformat_minor": 0,
  "metadata": {
    "colab": {
      "name": "12/11/2020.ipynb",
      "provenance": [],
      "authorship_tag": "ABX9TyO1bbjKtyzaoBS0acyVQHxH",
      "include_colab_link": true
    },
    "kernelspec": {
      "name": "python3",
      "display_name": "Python 3"
    }
  },
  "cells": [
    {
      "cell_type": "markdown",
      "metadata": {
        "id": "view-in-github",
        "colab_type": "text"
      },
      "source": [
        "<a href=\"https://colab.research.google.com/github/Eiram1/cyp_2021/blob/main/12_11_2020.ipynb\" target=\"_parent\"><img src=\"https://colab.research.google.com/assets/colab-badge.svg\" alt=\"Open In Colab\"/></a>"
      ]
    },
    {
      "cell_type": "code",
      "metadata": {
        "id": "csE3UNNdcmpI",
        "outputId": "32e53efa-4d3b-4c80-b625-c1552c746112",
        "colab": {
          "base_uri": "https://localhost:8080/"
        }
      },
      "source": [
        "numero=int (input(\"Dame un numero \"))\n",
        "if numero >0:\n",
        "  print(\"El número es positivo\")\n",
        "\n",
        "print (\"Fin del programa\")\n"
      ],
      "execution_count": 3,
      "outputs": [
        {
          "output_type": "stream",
          "text": [
            "Dame un numero 9\n",
            "El número es positivo\n",
            "Fin del programa\n"
          ],
          "name": "stdout"
        }
      ]
    },
    {
      "cell_type": "code",
      "metadata": {
        "id": "4Rgygls4frF5",
        "outputId": "6225052a-efe7-410a-bec9-e153ceb05664",
        "colab": {
          "base_uri": "https://localhost:8080/"
        }
      },
      "source": [
        "numero= int(input (\"Ingresa un numero \"))\n",
        "if numero >0:\n",
        "  print (\"El numero es positivo\")\n",
        "elif numero==0:\n",
        "  print (\"El numero es cero\")\n",
        "\n",
        "else:\n",
        "  print(\"El numero es negativo\")\n",
        "\n",
        "print (\"Fin del programa\")"
      ],
      "execution_count": 23,
      "outputs": [
        {
          "output_type": "stream",
          "text": [
            "Ingresa un numero 19\n",
            "El numero es positivo\n",
            "Fin del programa\n"
          ],
          "name": "stdout"
        }
      ]
    }
  ]
}