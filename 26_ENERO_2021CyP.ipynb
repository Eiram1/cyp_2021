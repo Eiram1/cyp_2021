{
  "nbformat": 4,
  "nbformat_minor": 0,
  "metadata": {
    "colab": {
      "name": "26_ENERO_2021CyP.ipynb",
      "provenance": [],
      "authorship_tag": "ABX9TyM4OVTgxmg57UTtmnKkZAwh",
      "include_colab_link": true
    },
    "kernelspec": {
      "name": "python3",
      "display_name": "Python 3"
    }
  },
  "cells": [
    {
      "cell_type": "markdown",
      "metadata": {
        "id": "view-in-github",
        "colab_type": "text"
      },
      "source": [
        "<a href=\"https://colab.research.google.com/github/Eiram1/cyp_2021/blob/main/26_ENERO_2021CyP.ipynb\" target=\"_parent\"><img src=\"https://colab.research.google.com/assets/colab-badge.svg\" alt=\"Open In Colab\"/></a>"
      ]
    },
    {
      "cell_type": "markdown",
      "metadata": {
        "id": "q8zwx8fvtLAU"
      },
      "source": [
        ""
      ]
    },
    {
      "cell_type": "markdown",
      "metadata": {
        "id": "eOCeHxP5tM27"
      },
      "source": [
        "# Listas de Python 3\r\n",
        "1. Es una estructura de datos lineal de 0 a n elementos.\r\n",
        "1. \"Equivalente\" a arreglos.\r\n",
        "1. Pueden ser de diferente tipo de dato. [1,2,22,12] o [1, True, 2.94, \"Hola\"]\r\n",
        "1. Pueden ser anidados, listas de listas. [\"Melón\", \"Manzana roja\",\"Manzana amarilla\"]\r\n",
        "1. Su selector es de la forma. [ int ]\r\n",
        "1. Son mutrables. "
      ]
    },
    {
      "cell_type": "code",
      "metadata": {
        "colab": {
          "base_uri": "https://localhost:8080/"
        },
        "id": "mW4-zQOiu9Me",
        "outputId": "3bbc5f72-0321-4b7f-c0e6-4306e22b0407"
      },
      "source": [
        "# EJEMPLOS:\r\n",
        "num = [4, 32, 778, 12, 10]\r\n",
        "print(num)\r\n",
        "print(num[2])\r\n",
        "\r\n",
        "# Una listas de 0 elementos\r\n",
        "color = []   # list()\r\n",
        "type(color) # Averiguar que tipo de función es con type\r\n",
        "dias= list()\r\n",
        "print(color)\r\n",
        "print(dias)"
      ],
      "execution_count": 6,
      "outputs": [
        {
          "output_type": "stream",
          "text": [
            "[4, 32, 778, 12, 10]\n",
            "778\n",
            "[]\n",
            "[]\n"
          ],
          "name": "stdout"
        }
      ]
    },
    {
      "cell_type": "code",
      "metadata": {
        "colab": {
          "base_uri": "https://localhost:8080/"
        },
        "id": "r5q7Wjp1wKKe",
        "outputId": "bc3ed670-f545-4d4f-f57b-6a558bc0e7e1"
      },
      "source": [
        "# Pueden de con diferentes tipos de datos\r\n",
        "\r\n",
        "mi_list = [1, 2, 3, \"Diego\", False, 5.19, [5569107718, 57142051, 112238807]]\r\n",
        "print(mi_list)\r\n",
        "print(mi_list[6][1])\r\n",
        "print(mi_list[3][4::-1])"
      ],
      "execution_count": 29,
      "outputs": [
        {
          "output_type": "stream",
          "text": [
            "[1, 2, 3, 'Diego', False, 5.19, [5569107718, 57142051, 112238807]]\n",
            "57142051\n",
            "ogeiD\n"
          ],
          "name": "stdout"
        }
      ]
    },
    {
      "cell_type": "code",
      "metadata": {
        "colab": {
          "base_uri": "https://localhost:8080/"
        },
        "id": "Lp064j-n0UNu",
        "outputId": "861d4cdb-c3f9-4fba-b7ed-07ba7c952e8c"
      },
      "source": [
        "frutas =  [\"melón\", \"fresa\",\"plátano\",\"uva\",\"kiwi\",\"papaya\",\"pera\"]\r\n",
        "print(frutas)\r\n",
        "frutas[0] = \"Melón\"\r\n",
        "print(frutas)\r\n",
        "frutas[1] = frutas[1].capitalize() \r\n",
        "print(frutas)"
      ],
      "execution_count": 38,
      "outputs": [
        {
          "output_type": "stream",
          "text": [
            "['melón', 'fresa', 'plátano', 'uva', 'kiwi', 'papaya', 'pera']\n",
            "['Melón', 'fresa', 'plátano', 'uva', 'kiwi', 'papaya', 'pera']\n",
            "['Melón', 'Fresa', 'plátano', 'uva', 'kiwi', 'papaya', 'pera']\n"
          ],
          "name": "stdout"
        }
      ]
    },
    {
      "cell_type": "code",
      "metadata": {
        "colab": {
          "base_uri": "https://localhost:8080/"
        },
        "id": "nRswhUQZ2HLz",
        "outputId": "eac65c4f-7057-4dfd-b62e-7a37d1868741"
      },
      "source": [
        "# Las listas son clases por lo tanto tienen métodos.\r\n",
        "# Ejemplo: Append agrega un elemento al final\r\n",
        "frutas =  [\"melón\", \"fresa\",\"plátano\",\"uva\",\"kiwi\",\"papaya\",\"pera\"]\r\n",
        "frutas.append(\"Fresa\")\r\n",
        "print(frutas)\r\n",
        "\r\n",
        "print(\"Ejemplo de copias\")\r\n",
        "otras_frutas=frutas.copy()\r\n",
        "print(frutas)\r\n",
        "print(otras_frutas)\r\n",
        "print(\"\")\r\n",
        "otras_frutas[0]=\"Chico  Zapote\"\r\n",
        "print(otras_frutas)\r\n",
        "print(frutas)\r\n",
        "print(\"-----------\")\r\n",
        "\r\n",
        "frutas.clear()\r\n",
        "print(frutas)"
      ],
      "execution_count": 49,
      "outputs": [
        {
          "output_type": "stream",
          "text": [
            "['melón', 'fresa', 'plátano', 'uva', 'kiwi', 'papaya', 'pera', 'Fresa']\n",
            "Ejemplo de copias\n",
            "['melón', 'fresa', 'plátano', 'uva', 'kiwi', 'papaya', 'pera', 'Fresa']\n",
            "['melón', 'fresa', 'plátano', 'uva', 'kiwi', 'papaya', 'pera', 'Fresa']\n",
            "\n",
            "['Chico  Zapote', 'fresa', 'plátano', 'uva', 'kiwi', 'papaya', 'pera', 'Fresa']\n",
            "['melón', 'fresa', 'plátano', 'uva', 'kiwi', 'papaya', 'pera', 'Fresa']\n",
            "-----------\n",
            "[]\n"
          ],
          "name": "stdout"
        }
      ]
    },
    {
      "cell_type": "code",
      "metadata": {
        "colab": {
          "base_uri": "https://localhost:8080/"
        },
        "id": "QNB1usuhFA9_",
        "outputId": "a8b99ccd-1abc-444d-bde5-9fbc7c8e7a2f"
      },
      "source": [
        "cosas=[\"jose\",True,2,3,4,5,\"pedro\",1.23]\r\n",
        "indice=0\r\n",
        "a_eliminar=[]\r\n",
        "for elemento in cosas:\r\n",
        "  if isinstance(elemento, int):\r\n",
        "    print(\"entero\",elemento)\r\n",
        "    a_eliminar.append(elemento)\r\n",
        "    indice+=1\r\n",
        "print(a_eliminar)\r\n",
        "for indice in a_eliminar:\r\n",
        "  print(indice)\r\n",
        "  cosas.remove(indice)\r\n",
        "print(cosas)"
      ],
      "execution_count": 50,
      "outputs": [
        {
          "output_type": "stream",
          "text": [
            "entero True\n",
            "entero 2\n",
            "entero 3\n",
            "entero 4\n",
            "entero 5\n",
            "[True, 2, 3, 4, 5]\n",
            "True\n",
            "2\n",
            "3\n",
            "4\n",
            "5\n",
            "['jose', 'pedro', 1.23]\n"
          ],
          "name": "stdout"
        }
      ]
    },
    {
      "cell_type": "code",
      "metadata": {
        "colab": {
          "base_uri": "https://localhost:8080/"
        },
        "id": "03OC2Zh8LI1l",
        "outputId": "d8dc225b-792c-44ae-dfe1-b9638c6233ed"
      },
      "source": [
        "# slicing sobre lista\r\n",
        "frutas=[\"melon\",\"sandia\",\"kiwi\",\"aguacate\",\"mango\",\"platano\"]\r\n",
        "\r\n",
        "print(frutas[1:4:])\r\n",
        "\r\n",
        "sistemas_operativos= [\"Windows\",\"Mac os\", \"Linux\", \"Android\",]\r\n",
        "autos=[\"Ford\", \"mazda\", \"honda\"]\r\n",
        "cosas= [sistemas_operativos, autos]\r\n",
        "print(cosas)\r\n",
        "print(cosas[1])\r\n",
        "print(cosas[0][2])\r\n",
        "print(cosas[0][3][2:5:1])\r\n",
        "print(cosas[1][1][4:1:-1])"
      ],
      "execution_count": 51,
      "outputs": [
        {
          "output_type": "stream",
          "text": [
            "['sandia', 'kiwi', 'aguacate']\n",
            "[['Windows', 'Mac os', 'Linux', 'Android'], ['Ford', 'mazda', 'honda']]\n",
            "['Ford', 'mazda', 'honda']\n",
            "Linux\n",
            "dro\n",
            "adz\n"
          ],
          "name": "stdout"
        }
      ]
    },
    {
      "cell_type": "code",
      "metadata": {
        "colab": {
          "base_uri": "https://localhost:8080/"
        },
        "id": "NHqF5wq5LKgN",
        "outputId": "32ed5e11-6151-4272-aaa6-a156a6821fcc"
      },
      "source": [
        "help(frutas)"
      ],
      "execution_count": 52,
      "outputs": [
        {
          "output_type": "stream",
          "text": [
            "Help on list object:\n",
            "\n",
            "class list(object)\n",
            " |  list() -> new empty list\n",
            " |  list(iterable) -> new list initialized from iterable's items\n",
            " |  \n",
            " |  Methods defined here:\n",
            " |  \n",
            " |  __add__(self, value, /)\n",
            " |      Return self+value.\n",
            " |  \n",
            " |  __contains__(self, key, /)\n",
            " |      Return key in self.\n",
            " |  \n",
            " |  __delitem__(self, key, /)\n",
            " |      Delete self[key].\n",
            " |  \n",
            " |  __eq__(self, value, /)\n",
            " |      Return self==value.\n",
            " |  \n",
            " |  __ge__(self, value, /)\n",
            " |      Return self>=value.\n",
            " |  \n",
            " |  __getattribute__(self, name, /)\n",
            " |      Return getattr(self, name).\n",
            " |  \n",
            " |  __getitem__(...)\n",
            " |      x.__getitem__(y) <==> x[y]\n",
            " |  \n",
            " |  __gt__(self, value, /)\n",
            " |      Return self>value.\n",
            " |  \n",
            " |  __iadd__(self, value, /)\n",
            " |      Implement self+=value.\n",
            " |  \n",
            " |  __imul__(self, value, /)\n",
            " |      Implement self*=value.\n",
            " |  \n",
            " |  __init__(self, /, *args, **kwargs)\n",
            " |      Initialize self.  See help(type(self)) for accurate signature.\n",
            " |  \n",
            " |  __iter__(self, /)\n",
            " |      Implement iter(self).\n",
            " |  \n",
            " |  __le__(self, value, /)\n",
            " |      Return self<=value.\n",
            " |  \n",
            " |  __len__(self, /)\n",
            " |      Return len(self).\n",
            " |  \n",
            " |  __lt__(self, value, /)\n",
            " |      Return self<value.\n",
            " |  \n",
            " |  __mul__(self, value, /)\n",
            " |      Return self*value.\n",
            " |  \n",
            " |  __ne__(self, value, /)\n",
            " |      Return self!=value.\n",
            " |  \n",
            " |  __new__(*args, **kwargs) from builtins.type\n",
            " |      Create and return a new object.  See help(type) for accurate signature.\n",
            " |  \n",
            " |  __repr__(self, /)\n",
            " |      Return repr(self).\n",
            " |  \n",
            " |  __reversed__(...)\n",
            " |      L.__reversed__() -- return a reverse iterator over the list\n",
            " |  \n",
            " |  __rmul__(self, value, /)\n",
            " |      Return value*self.\n",
            " |  \n",
            " |  __setitem__(self, key, value, /)\n",
            " |      Set self[key] to value.\n",
            " |  \n",
            " |  __sizeof__(...)\n",
            " |      L.__sizeof__() -- size of L in memory, in bytes\n",
            " |  \n",
            " |  append(...)\n",
            " |      L.append(object) -> None -- append object to end\n",
            " |  \n",
            " |  clear(...)\n",
            " |      L.clear() -> None -- remove all items from L\n",
            " |  \n",
            " |  copy(...)\n",
            " |      L.copy() -> list -- a shallow copy of L\n",
            " |  \n",
            " |  count(...)\n",
            " |      L.count(value) -> integer -- return number of occurrences of value\n",
            " |  \n",
            " |  extend(...)\n",
            " |      L.extend(iterable) -> None -- extend list by appending elements from the iterable\n",
            " |  \n",
            " |  index(...)\n",
            " |      L.index(value, [start, [stop]]) -> integer -- return first index of value.\n",
            " |      Raises ValueError if the value is not present.\n",
            " |  \n",
            " |  insert(...)\n",
            " |      L.insert(index, object) -- insert object before index\n",
            " |  \n",
            " |  pop(...)\n",
            " |      L.pop([index]) -> item -- remove and return item at index (default last).\n",
            " |      Raises IndexError if list is empty or index is out of range.\n",
            " |  \n",
            " |  remove(...)\n",
            " |      L.remove(value) -> None -- remove first occurrence of value.\n",
            " |      Raises ValueError if the value is not present.\n",
            " |  \n",
            " |  reverse(...)\n",
            " |      L.reverse() -- reverse *IN PLACE*\n",
            " |  \n",
            " |  sort(...)\n",
            " |      L.sort(key=None, reverse=False) -> None -- stable sort *IN PLACE*\n",
            " |  \n",
            " |  ----------------------------------------------------------------------\n",
            " |  Data and other attributes defined here:\n",
            " |  \n",
            " |  __hash__ = None\n",
            "\n"
          ],
          "name": "stdout"
        }
      ]
    },
    {
      "cell_type": "code",
      "metadata": {
        "id": "UnkrEc0JLTDe"
      },
      "source": [
        ""
      ],
      "execution_count": null,
      "outputs": []
    }
  ]
}