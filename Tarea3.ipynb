{
  "nbformat": 4,
  "nbformat_minor": 0,
  "metadata": {
    "colab": {
      "name": "Tarea3.ipynb",
      "provenance": [],
      "authorship_tag": "ABX9TyMNJAJ0Y84YVE8cAProIzk9",
      "include_colab_link": true
    },
    "kernelspec": {
      "name": "python3",
      "display_name": "Python 3"
    }
  },
  "cells": [
    {
      "cell_type": "markdown",
      "metadata": {
        "id": "view-in-github",
        "colab_type": "text"
      },
      "source": [
        "<a href=\"https://colab.research.google.com/github/Eiram1/cyp_2021/blob/main/Tarea3.ipynb\" target=\"_parent\"><img src=\"https://colab.research.google.com/assets/colab-badge.svg\" alt=\"Open In Colab\"/></a>"
      ]
    },
    {
      "cell_type": "code",
      "metadata": {
        "colab": {
          "base_uri": "https://localhost:8080/"
        },
        "id": "txMRzSbyeoXr",
        "outputId": "86b15de0-187f-401b-efac-c2a80a78e6da"
      },
      "source": [
        "# EJEMPLO 1.1\n",
        "PREPO = 0\n",
        "PAGO = 0\n",
        "DEVO = 0\n",
        "\n",
        "PREPO = float(input(\"Dame el costo: \"))\n",
        "PAGO = float(input(\"Pago con: \"))\n",
        "\n",
        "DEVO = PAGO - PREPO\n",
        "print(\"EL cambio es: \", DEVO)"
      ],
      "execution_count": 4,
      "outputs": [
        {
          "output_type": "stream",
          "text": [
            "Dame el costo: 86.25\n",
            "Pago con: 100\n",
            "EL cambio es:  13.75\n"
          ],
          "name": "stdout"
        }
      ]
    },
    {
      "cell_type": "code",
      "metadata": {
        "colab": {
          "base_uri": "https://localhost:8080/"
        },
        "id": "nEVGySgwhB7c",
        "outputId": "5b0bd135-d842-4250-fbbc-69d314677fdc"
      },
      "source": [
        "# EJEMPLO 1.2\n",
        "BASE = 0\n",
        "ALTU = 0\n",
        "AREA = 0\n",
        "\n",
        "BASE = float(input(\"Cual es la base: \"))\n",
        "ALTU = float(input(\"Cual es la altura: \"))\n",
        "\n",
        "AREA = (BASE * ALTU) / 2\n",
        "print(\"El area es: \", AREA)"
      ],
      "execution_count": 6,
      "outputs": [
        {
          "output_type": "stream",
          "text": [
            "Cual es la base: 8.5\n",
            "Cual es la altura: 7.2\n",
            "El area es:  30.6\n"
          ],
          "name": "stdout"
        }
      ]
    },
    {
      "cell_type": "code",
      "metadata": {
        "colab": {
          "base_uri": "https://localhost:8080/"
        },
        "id": "8P1zrg7EjCKD",
        "outputId": "cb075bb2-66e7-461e-f20a-91670772fef9"
      },
      "source": [
        "# EJEMPLO 1.3\n",
        "NOM = 0\n",
        "PES = 0\n",
        "LON = 0\n",
        "PESKIL = 0\n",
        "LONMET = 0\n",
        "\n",
        "NOM = input(\"Nombre del dinosaurio: \")\n",
        "PES = int(input(\"Peso del dinosaurio en libras: \"))\n",
        "LON = int(input(\"Longitud del dinosaurio en pies: \"))\n",
        "\n",
        "PESKIL = PES * 1000\n",
        "print(\"Peso en kilogramos:\", PESKIL)\n",
        "\n",
        "LONMET = LON * 0.3047\n",
        "print(\"Longitud en metros:\", LONMET)"
      ],
      "execution_count": 13,
      "outputs": [
        {
          "output_type": "stream",
          "text": [
            "Nombre del dinosaurio: SDFS\n",
            "Peso del dinosaurio en libras: 5\n",
            "Longitud del dinosaurio en pies: 30\n",
            "Peso en kilogramos: 5000\n",
            "Longitud en metros: 9.141\n"
          ],
          "name": "stdout"
        }
      ]
    },
    {
      "cell_type": "code",
      "metadata": {
        "colab": {
          "base_uri": "https://localhost:8080/"
        },
        "id": "RC4jlfhPlfaj",
        "outputId": "aab795bd-31ac-431d-efed-98c9ba2fdc2b"
      },
      "source": [
        "# EJEMPLO 1.4\n",
        "GAL = 0\n",
        "TOTAL = 0\n",
        "\n",
        "GAL = float(input(\"Litros de gasolina vendidos: \"))\n",
        "\n",
        "TOTAL = (GAL * 3.785) * 8.20\n",
        "print( \"Total:\",TOTAL )"
      ],
      "execution_count": 22,
      "outputs": [
        {
          "output_type": "stream",
          "text": [
            "Litros de gasolina vendidos: 19.9\n",
            "Total: 617.6363\n"
          ],
          "name": "stdout"
        }
      ]
    },
    {
      "cell_type": "code",
      "metadata": {
        "colab": {
          "base_uri": "https://localhost:8080/"
        },
        "id": "7nA_YLzzqlWK",
        "outputId": "d4a26661-92ca-45d6-d3ce-511a9662c2ab"
      },
      "source": [
        "# EJEMPLO 1.5\n",
        "RADIO = 0 \n",
        "ALTU = 0\n",
        "AREA = 0\n",
        "VOL = 0\n",
        "\n",
        "RADIO = float(input(\"Dame el radio: \"))\n",
        "ALTU = float(input(\"Dame la altura: \"))\n",
        "\n",
        "AREA = 2 * 3.141592 * RADIO * ALTU \n",
        "print(\"El area es:\",AREA)\n",
        "\n",
        "VOL = 3.141592 * RADIO ** 2 * ALTU\n",
        "print(\"El volumen es:\",VOL)"
      ],
      "execution_count": 24,
      "outputs": [
        {
          "output_type": "stream",
          "text": [
            "Dame el radio: 45.22\n",
            "Dame la altura: 11.60\n",
            "El area es: 3295.856733568\n",
            "El volumen es: 74519.32074597248\n"
          ],
          "name": "stdout"
        }
      ]
    },
    {
      "cell_type": "code",
      "metadata": {
        "colab": {
          "base_uri": "https://localhost:8080/"
        },
        "id": "ph03AyAPuLOO",
        "outputId": "1398fd17-75e4-4a20-fc86-96f61ddae03c"
      },
      "source": [
        "# EJEMPLO 1.6\n",
        "DIAS = 0\n",
        "SEG = 0\n",
        "MIN = 0\n",
        "\n",
        "DIAS = int(input(\"Cuantos dias convertimos a segundos: \"))\n",
        "\n",
        "SEG = DIAS * 24 * 60 * 60\n",
        "print(\"son:\",SEG)\n",
        "\n",
        "MIN = DIAS * 24 * 60\n",
        "print(\"Minutos:\",MIN)"
      ],
      "execution_count": 28,
      "outputs": [
        {
          "output_type": "stream",
          "text": [
            "Cuantos dias convertimos a segundos: 1\n",
            "son: 86400\n",
            "Minutos: 1440\n"
          ],
          "name": "stdout"
        }
      ]
    }
  ]
}