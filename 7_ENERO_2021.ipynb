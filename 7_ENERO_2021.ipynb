{
  "nbformat": 4,
  "nbformat_minor": 0,
  "metadata": {
    "colab": {
      "name": "7_ENERO_2021.ipynb",
      "provenance": [],
      "authorship_tag": "ABX9TyPi4GCU5CLpv4kIoTRHViPv",
      "include_colab_link": true
    },
    "kernelspec": {
      "name": "python3",
      "display_name": "Python 3"
    }
  },
  "cells": [
    {
      "cell_type": "markdown",
      "metadata": {
        "id": "view-in-github",
        "colab_type": "text"
      },
      "source": [
        "<a href=\"https://colab.research.google.com/github/Eiram1/cyp_2021/blob/main/7_ENERO_2021.ipynb\" target=\"_parent\"><img src=\"https://colab.research.google.com/assets/colab-badge.svg\" alt=\"Open In Colab\"/></a>"
      ]
    },
    {
      "cell_type": "code",
      "metadata": {
        "colab": {
          "base_uri": "https://localhost:8080/"
        },
        "id": "oUSAb_8zz-aa",
        "outputId": "914e75dd-36d4-4996-855e-b6e02b6e6f11"
      },
      "source": [
        "# \r\n",
        "REN = 3\r\n",
        "COL = 5\r\n",
        "VEC = [[0 for x in range(COL)] for x in range(REN)]\r\n",
        "print(VEC)\r\n",
        "VEC[1][2] = 15\r\n",
        "print(VEC)\r\n",
        "\r\n",
        "print(\"Automatizar el recorrido del arreglo\")\r\n",
        "for i in range(REN):\r\n",
        "  for j in range(COL):\r\n",
        "    print(f\"{i},{j} = {VEC[i][j]}\")\r\n",
        "\r\n"
      ],
      "execution_count": 14,
      "outputs": [
        {
          "output_type": "stream",
          "text": [
            "[[0, 0, 0, 0, 0], [0, 0, 0, 0, 0], [0, 0, 0, 0, 0]]\n",
            "[[0, 0, 0, 0, 0], [0, 0, 15, 0, 0], [0, 0, 0, 0, 0]]\n",
            "Automatizar el recorrido del arreglo\n",
            "0,0 = 0\n",
            "0,1 = 0\n",
            "0,2 = 0\n",
            "0,3 = 0\n",
            "0,4 = 0\n",
            "1,0 = 0\n",
            "1,1 = 0\n",
            "1,2 = 15\n",
            "1,3 = 0\n",
            "1,4 = 0\n",
            "2,0 = 0\n",
            "2,1 = 0\n",
            "2,2 = 0\n",
            "2,3 = 0\n",
            "2,4 = 0\n"
          ],
          "name": "stdout"
        }
      ]
    },
    {
      "cell_type": "code",
      "metadata": {
        "colab": {
          "base_uri": "https://localhost:8080/"
        },
        "id": "KO-RclosE9Dd",
        "outputId": "ab63bc6d-126e-410c-95f4-df538f6a623e"
      },
      "source": [
        "estados = 2\r\n",
        "\r\n",
        "lluvias_men_est= [ [0 for x in range(12)] for x in range(estados)]\r\n",
        "print(lluvias_men_est)\r\n",
        "for i in range(estados):\r\n",
        "  for j in range(12):\r\n",
        "    mensaje = \"Dame el valor del mes \" + str (i + 1) + \" del mes \" +  str (i + 1) \":\"\r\n",
        "    aux = int (input(mensaje))\r\n",
        "    lluvias_men_est[i][j] = aux\r\n",
        "print(lluvias_men_est)\r\n",
        "\r\n",
        "print(\"PROMEDIO DE LLUVIAS EN LOS ESTADOS\")\r\n",
        "SUMA = 0\r\n",
        "PROM = 0\r\n",
        "for i in range(estados):\r\n",
        "  for j in range(12):\r\n",
        "    SUMA = SUMA + lluvias_men_est[i][j]\r\n",
        "  print(f\"El promedio de lluvias {i + 1} es {SUMA / 12}\")"
      ],
      "execution_count": 2,
      "outputs": [
        {
          "output_type": "stream",
          "text": [
            "[[0, 0, 0, 0, 0, 0, 0, 0, 0, 0, 0, 0], [0, 0, 0, 0, 0, 0, 0, 0, 0, 0, 0, 0]]\n",
            "Dame el valor del mes 1 del mes 1,:50\n",
            "Dame el valor del mes 1 del mes 1,:7\n",
            "Dame el valor del mes 1 del mes 1,:12\n",
            "Dame el valor del mes 1 del mes 1,:15\n",
            "Dame el valor del mes 1 del mes 1,:22\n",
            "Dame el valor del mes 1 del mes 1,:50\n",
            "Dame el valor del mes 1 del mes 1,:85\n",
            "Dame el valor del mes 1 del mes 1,:70\n",
            "Dame el valor del mes 1 del mes 1,:65\n",
            "Dame el valor del mes 1 del mes 1,:28\n",
            "Dame el valor del mes 1 del mes 1,:35\n",
            "Dame el valor del mes 1 del mes 1,:17\n",
            "Dame el valor del mes 2 del mes 2,:45\n",
            "Dame el valor del mes 2 del mes 2,:3\n",
            "Dame el valor del mes 2 del mes 2,:10\n",
            "Dame el valor del mes 2 del mes 2,:5\n",
            "Dame el valor del mes 2 del mes 2,:30\n",
            "Dame el valor del mes 2 del mes 2,:90\n",
            "Dame el valor del mes 2 del mes 2,:130\n",
            "Dame el valor del mes 2 del mes 2,:75\n",
            "Dame el valor del mes 2 del mes 2,:49\n",
            "Dame el valor del mes 2 del mes 2,:37\n",
            "Dame el valor del mes 2 del mes 2,:15\n",
            "Dame el valor del mes 2 del mes 2,:8\n",
            "[[50, 7, 12, 15, 22, 50, 85, 70, 65, 28, 35, 17], [45, 3, 10, 5, 30, 90, 130, 75, 49, 37, 15, 8]]\n",
            "PROMEDIO DE LLUVIAS EN LOS ESTADOS\n",
            "El promedio de lluvias 1 es 38.0\n",
            "El promedio de lluvias 2 es 79.41666666666667\n"
          ],
          "name": "stdout"
        }
      ]
    }
  ]
}