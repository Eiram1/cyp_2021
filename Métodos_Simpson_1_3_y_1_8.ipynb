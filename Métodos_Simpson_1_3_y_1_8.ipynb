{
  "nbformat": 4,
  "nbformat_minor": 0,
  "metadata": {
    "colab": {
      "name": "Métodos_Simpson_1/3_y_1/8.ipynb",
      "provenance": [],
      "authorship_tag": "ABX9TyNbG/tmyorcOGJ5sVjJ2w37",
      "include_colab_link": true
    },
    "kernelspec": {
      "name": "python3",
      "display_name": "Python 3"
    },
    "language_info": {
      "name": "python"
    }
  },
  "cells": [
    {
      "cell_type": "markdown",
      "metadata": {
        "id": "view-in-github",
        "colab_type": "text"
      },
      "source": [
        "<a href=\"https://colab.research.google.com/github/Eiram1/cyp_2021/blob/main/M%C3%A9todos_Simpson_1_3_y_1_8.ipynb\" target=\"_parent\"><img src=\"https://colab.research.google.com/assets/colab-badge.svg\" alt=\"Open In Colab\"/></a>"
      ]
    },
    {
      "cell_type": "code",
      "metadata": {
        "colab": {
          "base_uri": "https://localhost:8080/"
        },
        "id": "cvS5ZdWe4cKM",
        "outputId": "19f74de5-fa57-49ce-9a18-7906df9fe5f2"
      },
      "source": [
        "# x = Symbol('x')\n",
        "# a = Symbol('a')\n",
        "# b = Symbol('b')\n",
        "\n",
        "def f(x):\n",
        "\tf = lambda x: (4*x - 3)**3\n",
        "\treturn f \n",
        "\n",
        "def integral(a, b):\n",
        "\treturn (1/16)*((4*b-3)**4-(4*a-3)**4)\n",
        "\n",
        "I_new2 = []\n",
        "err2 = []\n",
        "\n",
        "def dx(w, x):\n",
        "\tif(w==1):\n",
        "\t\treturn 12*(4*x-3)\n",
        "\tif(w==2):\n",
        "\t\treturn 96*(4*x-3)\n",
        "\tif(w==3):\n",
        "\t\treturn 384\n",
        "\tif(w==4):\n",
        "\t\treturn 0\n",
        "\n",
        "g2 = []\n",
        "err2 = []\n",
        "abserr2 = []\n",
        "err=[]\n",
        "approx = []\n",
        "\n",
        "def trap(f, a, b, n):\n",
        "\th = (b-a)/n\n",
        "\tarea = (f(a) + f(b))/2.0\n",
        "\tfor i in range(1, n):\n",
        "\t\tx = a + i*h;\n",
        "\t\tarea = area + f(x)\n",
        "\tarea = area*h\n",
        "\n",
        "\treturn area\n",
        "\n",
        "\n",
        "\n",
        "print(\"Usando la regla trapezoidal compuesta\")\n",
        "print(\"\")\n",
        "\n",
        "for i in range(1, 50, 5):\n",
        "\ty = trap(f(\"x\"), -3, 5, i)\n",
        "\te = abs((integral(-3, 5) - y)/integral(-3, 5))*100    \n",
        "\ty = round(y, 4)\n",
        "\te = round(e, 4)\n",
        "\tprint(\"Aproximación = \", y, \"Error = \", e, \"%\")\n",
        "\n",
        "\n",
        "print(\"\")\n",
        "print(\"Usando la regla compuesta de Simpson 1/3\")\n",
        "\n",
        "print(\"\")\n",
        "\n",
        "\n",
        "\n",
        "def sim(f, a, b, n):\n",
        "    approx = []\n",
        "    if a > b:\n",
        "        print(\"Limites incorrectos\")\n",
        "    if n%2:\n",
        "        print(\"Error: n debe ser igual\")\n",
        "    else:\n",
        "        h = (b-a)/n\n",
        "        s = f(a) + f(b)\n",
        "        for i in range(1, n, 2):\n",
        "            s += 4*f(a + i*h)\n",
        "            k = (s*h)/3\n",
        "        for j in range(2, n-1, 2):\n",
        "            s += 2*f(a + i*h)\n",
        "            k = (s*h)/3\n",
        "        approx = (s*h)/3\n",
        "    return approx\n",
        "\n",
        "r = sim(f(\"x\"), -3, 5, 2)\n",
        "\n",
        "err3 = abs((integral(-3, 5)-r)/r)*100\n",
        "print(\"Por n = \", 2, \"La aproximación es: \", sim(f(\"x\"), -3, 5, 2), \"El error es: \", err3, \"%\")\n",
        "\n",
        "\n",
        "print(\"\")\n",
        "\n",
        "\n",
        "\n",
        "print(\"Esto verifica que el método 1/3 de Simpson es exacto para polinomios de grado 3 o menos\")\n",
        "print(\"Como se muestra en la función dx anterior, la solución analítica de la cuarta derivada de f (x) = cero\")\n",
        "print(\"Esto siempre será cierto con polinomios de grado 3 o menos\")\n",
        "print(\"No podemos utilizar derivadas de orden inferior en el cálculo del error porque tendrán valores distintos de cero\")"
      ],
      "execution_count": null,
      "outputs": [
        {
          "output_type": "stream",
          "name": "stdout",
          "text": [
            "Usando la regla trapezoidal compuesta\n",
            "\n",
            "Aproximación =  6152.0 Error =  199.2218 %\n",
            "Aproximación =  2169.7778 Error =  5.5339 %\n",
            "Aproximación =  2089.8512 Error =  1.6465 %\n",
            "Aproximación =  2072.0 Error =  0.7782 %\n",
            "Aproximación =  2065.288 Error =  0.4518 %\n",
            "Aproximación =  2062.0592 Error =  0.2947 %\n",
            "Aproximación =  2060.2622 Error =  0.2073 %\n",
            "Aproximación =  2059.1605 Error =  0.1537 %\n",
            "Aproximación =  2058.4366 Error =  0.1185 %\n",
            "Aproximación =  2057.9357 Error =  0.0942 %\n",
            "\n",
            "Usando la regla compuesta de Simpson 1/3\n",
            "\n",
            "Por n =  2 La aproximación es:  2056.0 El error es:  0.0 %\n",
            "\n",
            "Esto verifica que el método 1/3 de Simpson es exacto para polinomios de grado 3 o menos\n",
            "Como se muestra en la función dx anterior, la solución analítica de la cuarta derivada de f (x) = cero\n",
            "Esto siempre será cierto con polinomios de grado 3 o menos\n",
            "No podemos utilizar derivadas de orden inferior en el cálculo del error porque tendrán valores distintos de cero\n"
          ]
        }
      ]
    },
    {
      "cell_type": "markdown",
      "metadata": {
        "id": "8K6SukQ76TQZ"
      },
      "source": [
        "#Para simpson 3/8 utilizamos este método"
      ]
    },
    {
      "cell_type": "code",
      "metadata": {
        "colab": {
          "base_uri": "https://localhost:8080/"
        },
        "id": "lLtl4R0RvXoP",
        "outputId": "53e15fea-5125-49e1-e09a-bb4cb3f5df1c"
      },
      "source": [
        "print(\"La formula de Simpson 3/8 es = (3/8)(h)((Fx0)+3(fx1)+3(fx2)+(fx3))\")\n",
        "n = 3\n",
        "a = 2\n",
        "b = 6\n",
        "# se calcula h para la formula\n",
        "h = (b - a)/n  # (a-b) /n  recordando que n=3\n",
        "print( \"h =\", h )\n",
        "print()\n",
        "print(\"Iteramos\")\n",
        "print()\n",
        "\n",
        "n = 0\n",
        "x1 = a + (n*h)\n",
        "fx0 = ((8*x1)+1)/(((4*(x1*x1)+x1)))\n",
        "print(\"El valor de x1 es:\" , x1,\"\\nF(x) = \", fx0)\n",
        "n = 1\n",
        "x1 = a + (n*h)\n",
        "fx1 = ((8*x1)+1)/(((4*(x1*x1)+x1)))\n",
        "print(\"El valor de x1 es:\" , x1,\"\\nF(x) = \", fx1)\n",
        "n = 2\n",
        "x1 = a + (n*h)\n",
        "fx2 = ((8*x1)+1)/(((4*(x1*x1)+x1)))\n",
        "print(\"El valor de x1 es:\" , x1,\"\\nF(x) = \", fx2)\n",
        "n = 3\n",
        "x1 = a + (n*h)\n",
        "fx3 = ((8*x1)+1)/(((4*(x1*x1)+x1)))\n",
        "print(\"El valor de x1 es:\" , x1,\"\\nF(x) = \", fx3)\n",
        "\n",
        "# La formula es (3/8)(h)((Fx0)+3(fx1)+3(fx2)+(fx3))\n",
        "print()\n",
        "print(\"Aplcamos la formula de simpson 3/8 = (3/8)(h)((Fx0)+3(fx1)+3(fx2)+(fx3)\")\n",
        "print()\n",
        "resultado = (3/8)*(h)*((fx0)+3*(fx1)+3*(fx2)+(fx3))\n",
        "print(\"El resultado es: \", resultado)"
      ],
      "execution_count": 41,
      "outputs": [
        {
          "output_type": "stream",
          "name": "stdout",
          "text": [
            "La formula de Simpson 3/8 es = (3/8)(h)((Fx0)+3(fx1)+3(fx2)+(fx3))\n",
            "h = 1.3333333333333333\n",
            "\n",
            "Iteramos\n",
            "\n",
            "El valor de x1 es: 2.0 \n",
            "F(x) =  0.9444444444444444\n",
            "El valor de x1 es: 3.333333333333333 \n",
            "F(x) =  0.5790697674418605\n",
            "El valor de x1 es: 4.666666666666666 \n",
            "F(x) =  0.4176755447941889\n",
            "El valor de x1 es: 6.0 \n",
            "F(x) =  0.32666666666666666\n",
            "\n",
            "Aplcamos la formula de simpson 3/8 = (3/8)(h)((Fx0)+3(fx1)+3(fx2)+(fx3)\n",
            "\n",
            "El resultado es:  2.1306735239096297\n"
          ]
        }
      ]
    }
  ]
}