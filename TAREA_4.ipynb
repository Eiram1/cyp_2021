{
  "nbformat": 4,
  "nbformat_minor": 0,
  "metadata": {
    "colab": {
      "name": "TAREA_4.ipynb",
      "provenance": [],
      "authorship_tag": "ABX9TyPjnahT8rfmGGZqij+84QaR",
      "include_colab_link": true
    },
    "kernelspec": {
      "name": "python3",
      "display_name": "Python 3"
    }
  },
  "cells": [
    {
      "cell_type": "markdown",
      "metadata": {
        "id": "view-in-github",
        "colab_type": "text"
      },
      "source": [
        "<a href=\"https://colab.research.google.com/github/Eiram1/cyp_2021/blob/main/TAREA_4.ipynb\" target=\"_parent\"><img src=\"https://colab.research.google.com/assets/colab-badge.svg\" alt=\"Open In Colab\"/></a>"
      ]
    },
    {
      "cell_type": "code",
      "metadata": {
        "colab": {
          "base_uri": "https://localhost:8080/"
        },
        "id": "gXSRUOFv-blO",
        "outputId": "340a8e20-b7d0-49a4-a25e-5f552038f98f"
      },
      "source": [
        "#EJEMPLO 2.4\n",
        "SUE = float (input(\"ingresa tú sueldo:\"))\n",
        "\n",
        "if (SUE <= 1000):\n",
        "  NSUE = SUE * 1.15\n",
        "  print(\"Tú sueldo es de $ \",NSUE)\n",
        "\n",
        "else:\n",
        "  if (SUE > 1000):\n",
        "    NSUE = SUE * 1.12\n",
        "    print(\"Tú sueldo es de $\", NSUE) "
      ],
      "execution_count": 1,
      "outputs": [
        {
          "output_type": "stream",
          "text": [
            "ingresa tú sueldo:2000\n",
            "Tú sueldo es de $ 2240.0\n"
          ],
          "name": "stdout"
        }
      ]
    },
    {
      "cell_type": "code",
      "metadata": {
        "colab": {
          "base_uri": "https://localhost:8080/"
        },
        "id": "cFIdWcCiH9rv",
        "outputId": "b4bdc662-72b9-4145-b6f5-2e0df5a52859"
      },
      "source": [
        "#EJEMPLO 2.8\n",
        "CATE = int (input(\"Ingresa la categoria: \"))\n",
        "SUE = float (input(\"Ingresa el sueldo: \"))\n",
        "\n",
        "if (SUE < 0):\n",
        "  print(\"No debe haber sueldos negativos\")\n",
        "\n",
        "else:\n",
        "  if (CATE > 0) and (CATE < 5):\n",
        "    if (CATE == 1):\n",
        "      SUE *= 1.15\n",
        "    elif (CATE == 2):\n",
        "      SUE *= 1.1\n",
        "    elif (CATE == 3):\n",
        "      SUE *= 1.08\n",
        "    elif (CATE == 4):\n",
        "      SUE *= 1.07\n",
        "    print(\"El sueldo de un empleado en la categoria\",CATE,\"es\",SUE)\n",
        "  else:\n",
        "    print(\"No existe la categoria\")"
      ],
      "execution_count": 14,
      "outputs": [
        {
          "output_type": "stream",
          "text": [
            "Ingresa la categoria: 2\n",
            "Ingresa el sueldo: 3200\n",
            "El sueldo de un empleado en la categoria 2 es 3520.0000000000005\n"
          ],
          "name": "stdout"
        }
      ]
    }
  ]
}