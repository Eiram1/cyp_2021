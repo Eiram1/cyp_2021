{
  "nbformat": 4,
  "nbformat_minor": 0,
  "metadata": {
    "colab": {
      "name": "19_nov_cyp.ipynb",
      "provenance": [],
      "authorship_tag": "ABX9TyMUZK+mnrGWS4WhM4sbNhT8",
      "include_colab_link": true
    },
    "kernelspec": {
      "name": "python3",
      "display_name": "Python 3"
    }
  },
  "cells": [
    {
      "cell_type": "markdown",
      "metadata": {
        "id": "view-in-github",
        "colab_type": "text"
      },
      "source": [
        "<a href=\"https://colab.research.google.com/github/Eiram1/cyp_2021/blob/main/19_nov_cyp.ipynb\" target=\"_parent\"><img src=\"https://colab.research.google.com/assets/colab-badge.svg\" alt=\"Open In Colab\"/></a>"
      ]
    },
    {
      "cell_type": "code",
      "metadata": {
        "colab": {
          "base_uri": "https://localhost:8080/"
        },
        "id": "m-LhAqGmhVce",
        "outputId": "9623a920-7f59-4539-9d73-ab8be8c38d95"
      },
      "source": [
        "I = 0\n",
        "I = I + 1\n",
        "print(f\"I = { I }\")\n",
        "\n",
        "J = 5 ** 2 / 3\n",
        "print(f\"J = { J }\")"
      ],
      "execution_count": 5,
      "outputs": [
        {
          "output_type": "stream",
          "text": [
            "I = 1\n",
            "J = 8.333333333333334\n"
          ],
          "name": "stdout"
        }
      ]
    },
    {
      "cell_type": "code",
      "metadata": {
        "colab": {
          "base_uri": "https://localhost:8080/"
        },
        "id": "caDFu7cWnJxr",
        "outputId": "393c2162-fd93-416b-d723-38ff9be35fcb"
      },
      "source": [
        "A = 0\n",
        "B = 0   # declaracion de variables (Reservando memoria)\n",
        "C = 0\n",
        "D = 0\n",
        "A = int(input(\"Dame un valor entero: \"))\n",
        "B = int(input(\"Dame un valor entero: \"))\n",
        "C = int(input(\"Dame un valor entero: \"))\n",
        "D = int(input(\"Dame un valor entero: \"))\n",
        "print(D)\n",
        "print(C)\n",
        "print(B)\n",
        "print(A)\n"
      ],
      "execution_count": 9,
      "outputs": [
        {
          "output_type": "stream",
          "text": [
            "Dame un valor entero: 3\n",
            "Dame un valor entero: 4\n",
            "Dame un valor entero: 1\n",
            "Dame un valor entero: 78\n",
            "78\n",
            "1\n",
            "4\n",
            "3\n"
          ],
          "name": "stdout"
        }
      ]
    },
    {
      "cell_type": "code",
      "metadata": {
        "colab": {
          "base_uri": "https://localhost:8080/"
        },
        "id": "QFKIBzj4o_oW",
        "outputId": "7fb25dac-72dc-40a8-bd7f-17af03cda974"
      },
      "source": [
        "#Ejemplo 1.7\n",
        "A = 0\n",
        "B = 0\n",
        "RES = 0\n",
        "\n",
        "A = int(input(\"Dame un entero: \"))\n",
        "B = int(input(\"Dame otro entero: \"))\n",
        "\n",
        "RES = (A + B) ** 2 /3\n",
        "print(RES)"
      ],
      "execution_count": 15,
      "outputs": [
        {
          "output_type": "stream",
          "text": [
            "Dame un entero: 14\n",
            "Dame otro entero: -5\n",
            "27.0\n"
          ],
          "name": "stdout"
        }
      ]
    },
    {
      "cell_type": "code",
      "metadata": {
        "colab": {
          "base_uri": "https://localhost:8080/"
        },
        "id": "R4plFXJTvKxt",
        "outputId": "d13c142e-226f-47b5-fb1b-34e6985360cc"
      },
      "source": [
        "#Ejemplo 1.8\n",
        "MAT = 0\n",
        "CAL1 = 0\n",
        "CAL2 = 0\n",
        "CAL3 = 0\n",
        "CAL4 = 0\n",
        "CAL5 =0\n",
        "PRO = 0\n",
        "\n",
        "MAT = input(\"Dame la matricula: \")\n",
        "CAL1 = float(input(\"Dame la calificacion 1: \"))\n",
        "CAL2 = float(input(\"Dame la calificacion 2: \"))\n",
        "CAL3 = float(input(\"Dame la calificacion 3: \"))\n",
        "CAL4 = float(input(\"Dame la calificacion 4: \"))\n",
        "CAL5 = float(input(\"Dame la calificacion 5: \"))\n",
        "PRO = ( CAL1 + CAL2 + CAL3 + CAL4 + CAL5 ) /5\n",
        "print(MAT , PRO)"
      ],
      "execution_count": 19,
      "outputs": [
        {
          "output_type": "stream",
          "text": [
            "Dame la matricula: 16500\n",
            "Dame la calificacion 1: 8\n",
            "Dame la calificacion 2: 8.5\n",
            "Dame la calificacion 3: 9\n",
            "Dame la calificacion 4: 7\n",
            "Dame la calificacion 5: 6\n",
            "16500 7.7\n"
          ],
          "name": "stdout"
        }
      ]
    },
    {
      "cell_type": "code",
      "metadata": {
        "colab": {
          "base_uri": "https://localhost:8080/"
        },
        "id": "75yGsCz1yai4",
        "outputId": "c98c92cc-5094-4fac-b4a3-16db232f13f6"
      },
      "source": [
        "#Ejemplo 1.9\n",
        "NUM = 0\n",
        "CUA = 0\n",
        "CUB = 0\n",
        "\n",
        "NUM = int(input(\"Dame un numero entero: \"))\n",
        "\n",
        "CUA = NUM ** 2\n",
        "CUB = NUM ** 3\n",
        "\n",
        "print(\"El cuadrado de \", NUM, \" es \", CUA, \" y su cubo es \", CUB)\n"
      ],
      "execution_count": 22,
      "outputs": [
        {
          "output_type": "stream",
          "text": [
            "Dame un numero entero: 7\n",
            "El cuadrado de  7  es  49  y su cubo es  343\n"
          ],
          "name": "stdout"
        }
      ]
    },
    {
      "cell_type": "code",
      "metadata": {
        "colab": {
          "base_uri": "https://localhost:8080/"
        },
        "id": "_OtVs5iYzno7",
        "outputId": "e1c8bc77-88b1-43ce-96cb-ccadd8fccda6"
      },
      "source": [
        "#Ejemplo 1.10\n",
        "BASE = 0\n",
        "ALTU = 0\n",
        "SUP = 0\n",
        "PER = 0\n",
        "\n",
        "BASE = float(input(\"Dame la base: \"))\n",
        "ALTU = float(input(\"Dame la altura: \"))\n",
        "\n",
        "SUP = BASE * ALTU\n",
        "PER = 2 * (BASE + ALTU)\n",
        "print(SUP , PER)\n"
      ],
      "execution_count": 29,
      "outputs": [
        {
          "output_type": "stream",
          "text": [
            "Dame la base: 8.5\n",
            "Dame la altura: 6.2\n",
            "52.7 29.4\n"
          ],
          "name": "stdout"
        }
      ]
    }
  ]
}