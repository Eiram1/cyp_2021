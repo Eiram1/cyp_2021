{
  "nbformat": 4,
  "nbformat_minor": 0,
  "metadata": {
    "colab": {
      "name": "03_dic_2020.ipynb",
      "provenance": [],
      "authorship_tag": "ABX9TyPd5+tdIXQsd9zupvrEda8k",
      "include_colab_link": true
    },
    "kernelspec": {
      "name": "python3",
      "display_name": "Python 3"
    }
  },
  "cells": [
    {
      "cell_type": "markdown",
      "metadata": {
        "id": "view-in-github",
        "colab_type": "text"
      },
      "source": [
        "<a href=\"https://colab.research.google.com/github/Eiram1/cyp_2021/blob/main/03_dic_2020.ipynb\" target=\"_parent\"><img src=\"https://colab.research.google.com/assets/colab-badge.svg\" alt=\"Open In Colab\"/></a>"
      ]
    },
    {
      "cell_type": "code",
      "metadata": {
        "colab": {
          "base_uri": "https://localhost:8080/"
        },
        "id": "Zx_B4AI3muC2",
        "outputId": "2468874d-6412-4f64-9b13-870e7617d9e7"
      },
      "source": [
        "# EJEMPLO 1\n",
        "for i in [1, 2, 3, 4]:\n",
        "  print(f\"El elemento: {i}\")"
      ],
      "execution_count": 1,
      "outputs": [
        {
          "output_type": "stream",
          "text": [
            "El elemento: 1\n",
            "El elemento: 2\n",
            "El elemento: 3\n",
            "El elemento: 4\n"
          ],
          "name": "stdout"
        }
      ]
    },
    {
      "cell_type": "code",
      "metadata": {
        "colab": {
          "base_uri": "https://localhost:8080/"
        },
        "id": "H6oPKTxlnt0G",
        "outputId": "024b4b0b-6a37-430a-c407-6d9d5a6e8486"
      },
      "source": [
        "coleccion = [1, 2, 3, 4, 5]\n",
        "for i in [coleccion]:\n",
        "  print(f\"El elemento: {i}\")"
      ],
      "execution_count": 3,
      "outputs": [
        {
          "output_type": "stream",
          "text": [
            "El elemento: [1, 2, 3, 4, 5]\n"
          ],
          "name": "stdout"
        }
      ]
    },
    {
      "cell_type": "code",
      "metadata": {
        "colab": {
          "base_uri": "https://localhost:8080/"
        },
        "id": "aA8SzHHMoIt9",
        "outputId": "7afd0fb1-cb1a-42a0-d1a4-eb2f6447ff4d"
      },
      "source": [
        "# EJEMPLO 2\n",
        "coleccion = {\"Mario\":20, \"Juan\":15, \"Marcos\":25, \"Antonio\":19}\n",
        "for i in coleccion:\n",
        "  print(f\"Elemento: {i}\")"
      ],
      "execution_count": 6,
      "outputs": [
        {
          "output_type": "stream",
          "text": [
            "Elemento: Mario\n",
            "Elemento: Juan\n",
            "Elemento: Marcos\n",
            "Elemento: Antonio\n"
          ],
          "name": "stdout"
        }
      ]
    },
    {
      "cell_type": "code",
      "metadata": {
        "colab": {
          "base_uri": "https://localhost:8080/"
        },
        "id": "iHwEFN-kpO6u",
        "outputId": "cc8742aa-0b61-43d1-cd96-0ebc58b31198"
      },
      "source": [
        "coleccion = {\"Mario\":20, \"Juan\":15, \"Marcos\":25, \"Antonio\":19}\n",
        "for i in coleccion:\n",
        "  print(f\"{coleccion [i]}\")"
      ],
      "execution_count": 7,
      "outputs": [
        {
          "output_type": "stream",
          "text": [
            "20\n",
            "15\n",
            "25\n",
            "19\n"
          ],
          "name": "stdout"
        }
      ]
    },
    {
      "cell_type": "code",
      "metadata": {
        "colab": {
          "base_uri": "https://localhost:8080/"
        },
        "id": "r9x4NSXnpyHt",
        "outputId": "dd91607c-d24d-42ad-e1a9-deeb7d2ee667"
      },
      "source": [
        "coleccion = {\"Mario\":20, \"Juan\":15, \"Marcos\":25, \"Antonio\":19}\n",
        "for i in coleccion:\n",
        "  print(f\"{i} -> {coleccion[i]}\")"
      ],
      "execution_count": 12,
      "outputs": [
        {
          "output_type": "stream",
          "text": [
            "Mario -> 20\n",
            "Juan -> 15\n",
            "Marcos -> 25\n",
            "Antonio -> 19\n"
          ],
          "name": "stdout"
        }
      ]
    },
    {
      "cell_type": "code",
      "metadata": {
        "colab": {
          "base_uri": "https://localhost:8080/"
        },
        "id": "nN480Djsrck5",
        "outputId": "71c94984-a485-4b11-a79b-30d39ca2b237"
      },
      "source": [
        "coleccion = {\"Mario\":20, \"Juan\":15, \"Marcos\":25, \"Antonio\":19}\n",
        "for clave, valor in coleccion.items():\n",
        "  print(f\"{clave} -> {valor}\")"
      ],
      "execution_count": 13,
      "outputs": [
        {
          "output_type": "stream",
          "text": [
            "Mario -> 20\n",
            "Juan -> 15\n",
            "Marcos -> 25\n",
            "Antonio -> 19\n"
          ],
          "name": "stdout"
        }
      ]
    },
    {
      "cell_type": "code",
      "metadata": {
        "colab": {
          "base_uri": "https://localhost:8080/"
        },
        "id": "aCR0z9shr9YS",
        "outputId": "4cefb742-c8b3-4812-81d3-fa4e4708af1e"
      },
      "source": [
        "# EJEMPLO 3\n",
        "email = False\n",
        "for i in \"dl67349@gmail.com\":\n",
        "  \n",
        "  if(i == \"@\"):\n",
        "    email = True\n",
        "\n",
        "if email == True:\n",
        "  print(\"El email es correcto\")\n",
        "\n",
        "else:\n",
        "  print(\"no es un email\")\n"
      ],
      "execution_count": 14,
      "outputs": [
        {
          "output_type": "stream",
          "text": [
            "El email es correcto\n"
          ],
          "name": "stdout"
        }
      ]
    },
    {
      "cell_type": "code",
      "metadata": {
        "colab": {
          "base_uri": "https://localhost:8080/"
        },
        "id": "fqeCv46KtfCp",
        "outputId": "2399ecab-32a7-47d9-d2dd-0e0f1cc00551"
      },
      "source": [
        "email = False\n",
        "miEmail = input(\"pon tu correo electronico:\")\n",
        "\n",
        "for i in miEmail:\n",
        "\n",
        "  if(i == \"@\"):\n",
        "    email = True\n",
        "\n",
        "if email == True:\n",
        "  print(\"El email es correcto\")\n",
        "\n",
        "else:\n",
        "  print(\"no es un email\")"
      ],
      "execution_count": 17,
      "outputs": [
        {
          "output_type": "stream",
          "text": [
            "pon tu correo electronico:ajvjdnv\n",
            "no es un email\n"
          ],
          "name": "stdout"
        }
      ]
    },
    {
      "cell_type": "code",
      "metadata": {
        "colab": {
          "base_uri": "https://localhost:8080/"
        },
        "id": "SrUHkJ7gu9BX",
        "outputId": "7e274974-6a6b-4366-b9d1-56023606e16d"
      },
      "source": [
        "# FOR-RANGE\n",
        "\n",
        "for i in range (5):\n",
        "  print(i)"
      ],
      "execution_count": 20,
      "outputs": [
        {
          "output_type": "stream",
          "text": [
            "0\n",
            "1\n",
            "2\n",
            "3\n",
            "4\n"
          ],
          "name": "stdout"
        }
      ]
    },
    {
      "cell_type": "code",
      "metadata": {
        "colab": {
          "base_uri": "https://localhost:8080/"
        },
        "id": "4uyWec81wpHP",
        "outputId": "bb829c2e-a30e-43df-dfe2-dab881d52ec5"
      },
      "source": [
        "for i in range (10):\n",
        "  print(f\"Valor de la variable {i}\")"
      ],
      "execution_count": 22,
      "outputs": [
        {
          "output_type": "stream",
          "text": [
            "Valor de la variable 0\n",
            "Valor de la variable 1\n",
            "Valor de la variable 2\n",
            "Valor de la variable 3\n",
            "Valor de la variable 4\n",
            "Valor de la variable 5\n",
            "Valor de la variable 6\n",
            "Valor de la variable 7\n",
            "Valor de la variable 8\n",
            "Valor de la variable 9\n"
          ],
          "name": "stdout"
        }
      ]
    },
    {
      "cell_type": "code",
      "metadata": {
        "colab": {
          "base_uri": "https://localhost:8080/"
        },
        "id": "p08pBaPcxXbI",
        "outputId": "20fe0597-eadf-4334-c8e0-737649004c64"
      },
      "source": [
        "for i in range (20):\n",
        "  print(f\"Valor de la variable {i}\")"
      ],
      "execution_count": 23,
      "outputs": [
        {
          "output_type": "stream",
          "text": [
            "Valor de la variable 0\n",
            "Valor de la variable 1\n",
            "Valor de la variable 2\n",
            "Valor de la variable 3\n",
            "Valor de la variable 4\n",
            "Valor de la variable 5\n",
            "Valor de la variable 6\n",
            "Valor de la variable 7\n",
            "Valor de la variable 8\n",
            "Valor de la variable 9\n",
            "Valor de la variable 10\n",
            "Valor de la variable 11\n",
            "Valor de la variable 12\n",
            "Valor de la variable 13\n",
            "Valor de la variable 14\n",
            "Valor de la variable 15\n",
            "Valor de la variable 16\n",
            "Valor de la variable 17\n",
            "Valor de la variable 18\n",
            "Valor de la variable 19\n"
          ],
          "name": "stdout"
        }
      ]
    },
    {
      "cell_type": "code",
      "metadata": {
        "id": "LVF7UUQtyBfd"
      },
      "source": [
        "# WHILE EJEMPLOS\n",
        "#EJEMPLO 1\n",
        "i = 1\n",
        "while i <= 10:\n",
        "  print(\"Ejecución\" + str (i))"
      ],
      "execution_count": null,
      "outputs": []
    },
    {
      "cell_type": "code",
      "metadata": {
        "colab": {
          "base_uri": "https://localhost:8080/"
        },
        "id": "7K1cUbyhz99v",
        "outputId": "5b451028-8d37-48a1-ad27-904dffbf2b9f"
      },
      "source": [
        "i = 1\n",
        "while i <= 10:\n",
        "    print(\"Ejecución\" + str (i))\n",
        "\n",
        "    i = i + 1  #contador, es decir, incrementa en 1 la variable"
      ],
      "execution_count": 27,
      "outputs": [
        {
          "output_type": "stream",
          "text": [
            "Ejecución1\n",
            "Ejecución2\n",
            "Ejecución3\n",
            "Ejecución4\n",
            "Ejecución5\n",
            "Ejecución6\n",
            "Ejecución7\n",
            "Ejecución8\n",
            "Ejecución9\n",
            "Ejecución10\n"
          ],
          "name": "stdout"
        }
      ]
    },
    {
      "cell_type": "code",
      "metadata": {
        "colab": {
          "base_uri": "https://localhost:8080/"
        },
        "id": "D6dupWSA0vJd",
        "outputId": "ea5b4675-d1b6-4e97-eedb-43eef92be0ef"
      },
      "source": [
        "edad = int(input(\"Introduce tu edad: \"))\n",
        "while edad < 18 or edad >=100:\n",
        "  print(\"Has introducido una edad negativa, intentalo otra vez\")\n",
        "  edad = int(input(\"Introduce tu edad: \"))\n",
        "print(\"Gracias por participar, puedes pasar\")\n",
        "print(\"edad del aspirante \"+ str (edad))\n"
      ],
      "execution_count": 45,
      "outputs": [
        {
          "output_type": "stream",
          "text": [
            "Introduce tu edad: 18\n",
            "Gracias por participar, puedes pasar\n",
            "edad del aspirante 18\n"
          ],
          "name": "stdout"
        }
      ]
    }
  ]
}